{
 "cells": [
  {
   "cell_type": "markdown",
   "metadata": {},
   "source": [
    "# Bibliotecas / Pacotes usados"
   ]
  },
  {
   "cell_type": "code",
   "execution_count": 198,
   "metadata": {},
   "outputs": [],
   "source": [
    "#%pip install pandas\n",
    "#%pip install seaborn\n",
    "#%pip install numpy\n",
    "#%pip install matplotlib.pyplot\n",
    "#%pip install -U scikit-learn \n",
    "#%pip install optuna\n",
    "#%pip install xgboost\n",
    "\n",
    "import optuna\n",
    "import pandas                   as pd\n",
    "import seaborn                  as sns\n",
    "import numpy                    as np\n",
    "import matplotlib.pyplot        as plt\n",
    "from sklearn.preprocessing      import LabelEncoder, OneHotEncoder, OrdinalEncoder\n",
    "from sklearn.model_selection    import train_test_split\n",
    "from sklearn.metrics            import precision_score, f1_score, accuracy_score, auc\n",
    "from sklearn.linear_model       import LogisticRegression\n",
    "from sklearn.metrics            import confusion_matrix\n",
    "from sklearn.metrics            import classification_report\n",
    "from sklearn.metrics            import confusion_matrix, ConfusionMatrixDisplay\n",
    "from sklearn.tree               import DecisionTreeClassifier\n",
    "from sklearn.ensemble           import RandomForestClassifier\n",
    "from sklearn.model_selection    import StratifiedKFold, cross_validate, cross_val_score\n",
    "from xgboost                    import XGBRegressor, XGBClassifier\n",
    "from sklearn.linear_model       import LinearRegression, Lasso\n",
    "from sklearn.preprocessing      import MinMaxScaler, RobustScaler\n",
    "from sklearn.metrics            import mean_absolute_error, mean_squared_error, mean_absolute_percentage_error, r2_score"
   ]
  },
  {
   "cell_type": "markdown",
   "metadata": {},
   "source": [
    "## Funções"
   ]
  },
  {
   "cell_type": "markdown",
   "metadata": {},
   "source": [
    "### Função - Configuração dos gráficos"
   ]
  },
  {
   "cell_type": "code",
   "execution_count": 199,
   "metadata": {},
   "outputs": [],
   "source": [
    "# ===================================================================\n",
    "# Configura os gráficos\n",
    "def jupyter_settings():\n",
    "    %matplotlib inline\n",
    "    # %pylab inline\n",
    "    \n",
    "    plt.style.use('bmh')\n",
    "    plt.rcParams['figure.figsize'] = [22, 9]\n",
    "    plt.rcParams['font.size'] = 21\n",
    "\n",
    "    # display(HTML('<style>.conteiner{width:100% !important;}</style>'))\n",
    "\n",
    "    pd.options.display.max_columns = None\n",
    "    pd.options.display.max_rows = None\n",
    "    pd.set_option('display.expand_frame_repr', False)\n",
    "    \n",
    "    # configura o pandas para quantidade de casas decimais\n",
    "    pd.set_option('display.float_format', lambda x: '%.2f' % x)\n",
    "\n",
    "    sns.set()\n",
    "\n",
    "jupyter_settings()"
   ]
  },
  {
   "cell_type": "markdown",
   "metadata": {},
   "source": [
    "### Função - Arrumando o Banco para Modelagem"
   ]
  },
  {
   "cell_type": "code",
   "execution_count": 200,
   "metadata": {},
   "outputs": [],
   "source": [
    "def arrumando_banco(data):\n",
    "\n",
    "    dataframe = data.copy()\n",
    "\n",
    "    #1 – IDADE :: imputação de missings\n",
    "    dataframe['Age'].fillna(dataframe['Age'].median(), inplace=True)\n",
    "    dataframe['Pclass'].fillna(dataframe['Pclass'].mean(), inplace=True)\n",
    "    dataframe['Fare'].fillna(dataframe['Fare'].mean(), inplace=True)\n",
    "\n",
    "    #2 – IDADE :: recodificação da variával idade (quanti para quali[str])\n",
    "    conditions = [\n",
    "    dataframe['Age'] < 12,\n",
    "        (dataframe['Age'] >= 12) & (dataframe['Age'] < 22),\n",
    "        (dataframe['Age'] >= 22) & (dataframe['Age'] < 35),\n",
    "        dataframe['Age'] >= 35\n",
    "                ]\n",
    "    choices = [\n",
    "            'Age - menores que 12 anos',\n",
    "            'Age - entre 12 e 22 anos',\n",
    "            'Age - entre 22 e 35 anos',\n",
    "            'Age - maiores que o 35 anos'\n",
    "            ]\n",
    "    dataframe['Age_rec'] = np.select(conditions, choices)\n",
    "\n",
    "    #3 SEXO :: Transformando quali[str] em quali[num]\n",
    "    dataframe = pd.get_dummies(dataframe, columns=['Sex'], prefix=['Sex'], dtype = int, drop_first = True)\n",
    "\n",
    "     #4 – SEXO * IDADE :: criando um fator de interação\n",
    "    dataframe['Int_Age_Sex'] = dataframe.apply(lambda x: str(x['Sex_male']) + str(x['Age_rec']), axis = 1 )\n",
    "    dataframe['Int_Age_Pclass'] = dataframe.apply(lambda x: str(x['Pclass']) + str(x['Age_rec']), axis = 1 )\n",
    "\n",
    "    #5 – IDADE, SEXO e INTERAÇÃO :: Transformando quali[str] em quali[num]\n",
    "    label = OrdinalEncoder()\n",
    "    dataframe[['Age_rec', 'Pclass', 'Int_Age_Pclass']] = label.fit_transform(\n",
    "        dataframe[['Age_rec', 'Pclass', 'Int_Age_Pclass']])\n",
    "    \n",
    "    label = OrdinalEncoder()\n",
    "    dataframe[['Age_rec', 'Sex_male', 'Int_Age_Sex']] = label.fit_transform(\n",
    "        dataframe[['Age_rec', 'Sex_male', 'Int_Age_Sex']])\n",
    "    \n",
    "       #3.1 Mudando tipo da variável Sexo\n",
    "    dataframe['Sex_male'] = dataframe['Sex_male'].astype('int64')\n",
    "    dataframe['Age_rec'] = dataframe['Age_rec'].astype('int64')\n",
    "    dataframe['Pclass'] = dataframe['Pclass'].astype('int64')\n",
    "    dataframe['Int_Age_Sex'] = dataframe['Int_Age_Sex'].astype('int64')\n",
    "    dataframe['Int_Age_Pclass'] = dataframe['Int_Age_Sex'].astype('int64')\n",
    "    \n",
    "    return dataframe\n"
   ]
  },
  {
   "cell_type": "markdown",
   "metadata": {},
   "source": [
    "### Função - Coletar as Métricas - Treino/Teste"
   ]
  },
  {
   "cell_type": "code",
   "execution_count": 201,
   "metadata": {},
   "outputs": [],
   "source": [
    "def calcula_metricas( nome, model, y_test, y_pred ):\n",
    "    # Avaliando o modelo\n",
    "    precision = precision_score( y_test, y_pred )\n",
    "    f1 = f1_score( y_test, y_pred )\n",
    "    accuracy = accuracy_score( y_test, y_pred )\n",
    "    # auc_ = auc( y_test, y_pred )\n",
    "\n",
    "    # =======================================\n",
    "    # Retornando a tabela de métricas\n",
    "    # =======================================\n",
    "    linhas = [[ nome, precision, f1, accuracy]]\n",
    "    colunas = [ \"Modelo\", \"Precision\", \"F1\", \"Accuracy\" ]\n",
    "\n",
    "    regressao_metricas =  pd.DataFrame( linhas, columns = colunas )\n",
    "\n",
    "    #ConfusionMatrixDisplay(confusion_matrix = matriz_confusao1, \n",
    "                    #display_labels=model.classes_).plot()\n",
    "    #plt.grid(False)\n",
    "    #plt.show()\n",
    "\n",
    "    return regressao_metricas"
   ]
  },
  {
   "cell_type": "markdown",
   "metadata": {},
   "source": [
    "### Função - Coletar as Métricas - Cross Validation"
   ]
  },
  {
   "cell_type": "code",
   "execution_count": 202,
   "metadata": {},
   "outputs": [],
   "source": [
    "def CV_calc_metricas(nome, model, X, y ):\n",
    "\n",
    "    scoring = {'accuracy': 'accuracy', 'precision': 'precision', 'f1': 'f1'}\n",
    "\n",
    "    modeloCV = cross_validate( model, X, y, scoring = scoring, cv=5 )\n",
    "\n",
    "    precision_i = modeloCV['test_precision'].mean()\n",
    "    f1_i = modeloCV['test_f1'].mean()\n",
    "    accuracy_i = modeloCV['test_accuracy'].mean()\n",
    "\n",
    "    # =======================================\n",
    "    # Retornando a tabela de métricas\n",
    "    # =======================================\n",
    "    linhas = [[ nome, precision_i, f1_i, accuracy_i ]]\n",
    "    colunas = [ \"Modelo\", \"Precision\", \"F1\", \"Accuracy\" ]\n",
    "\n",
    "    regressaoCV_metricas = pd.DataFrame( linhas, columns = colunas )\n",
    "\n",
    "    return regressaoCV_metricas"
   ]
  },
  {
   "cell_type": "markdown",
   "metadata": {},
   "source": [
    "# Lendo o BANCO - Parte 1"
   ]
  },
  {
   "cell_type": "code",
   "execution_count": 203,
   "metadata": {},
   "outputs": [],
   "source": [
    "df_raw = pd.read_csv('../banco/train.csv')"
   ]
  },
  {
   "cell_type": "code",
   "execution_count": 204,
   "metadata": {},
   "outputs": [],
   "source": [
    "df_kaggle_raw = pd.read_csv('../banco/test.csv')"
   ]
  },
  {
   "cell_type": "code",
   "execution_count": 205,
   "metadata": {},
   "outputs": [
    {
     "data": {
      "text/plain": [
       "Index(['PassengerId', 'Survived', 'Pclass', 'Name', 'Sex', 'Age', 'SibSp',\n",
       "       'Parch', 'Ticket', 'Fare', 'Cabin', 'Embarked'],\n",
       "      dtype='object')"
      ]
     },
     "execution_count": 205,
     "metadata": {},
     "output_type": "execute_result"
    }
   ],
   "source": [
    "df = df_raw.copy()\n",
    "df.columns"
   ]
  },
  {
   "cell_type": "code",
   "execution_count": 206,
   "metadata": {},
   "outputs": [
    {
     "data": {
      "text/plain": [
       "Index(['PassengerId', 'Pclass', 'Name', 'Sex', 'Age', 'SibSp', 'Parch',\n",
       "       'Ticket', 'Fare', 'Cabin', 'Embarked'],\n",
       "      dtype='object')"
      ]
     },
     "execution_count": 206,
     "metadata": {},
     "output_type": "execute_result"
    }
   ],
   "source": [
    "df_kaggle = df_kaggle_raw.copy()\n",
    "df_kaggle.columns"
   ]
  },
  {
   "cell_type": "markdown",
   "metadata": {},
   "source": [
    "# Separando os bancos \"y\" e \"Xs\""
   ]
  },
  {
   "cell_type": "markdown",
   "metadata": {},
   "source": [
    "## Banco \"y\""
   ]
  },
  {
   "cell_type": "code",
   "execution_count": 207,
   "metadata": {},
   "outputs": [
    {
     "data": {
      "text/plain": [
       "0    0\n",
       "1    1\n",
       "2    1\n",
       "3    1\n",
       "4    0\n",
       "Name: Survived, dtype: int64"
      ]
     },
     "execution_count": 207,
     "metadata": {},
     "output_type": "execute_result"
    }
   ],
   "source": [
    "y = df[\"Survived\"]\n",
    "y.head()"
   ]
  },
  {
   "cell_type": "code",
   "execution_count": 208,
   "metadata": {},
   "outputs": [
    {
     "data": {
      "text/plain": [
       "count   891.00\n",
       "mean      0.38\n",
       "std       0.49\n",
       "min       0.00\n",
       "25%       0.00\n",
       "50%       0.00\n",
       "75%       1.00\n",
       "max       1.00\n",
       "Name: Survived, dtype: float64"
      ]
     },
     "execution_count": 208,
     "metadata": {},
     "output_type": "execute_result"
    }
   ],
   "source": [
    "y.describe()"
   ]
  },
  {
   "cell_type": "markdown",
   "metadata": {},
   "source": [
    "## Banco \"Xs\""
   ]
  },
  {
   "cell_type": "code",
   "execution_count": 209,
   "metadata": {},
   "outputs": [
    {
     "data": {
      "text/plain": [
       "Index(['PassengerId', 'Survived', 'Pclass', 'Name', 'Sex', 'Age', 'SibSp',\n",
       "       'Parch', 'Ticket', 'Fare', 'Cabin', 'Embarked'],\n",
       "      dtype='object')"
      ]
     },
     "execution_count": 209,
     "metadata": {},
     "output_type": "execute_result"
    }
   ],
   "source": [
    "df.columns"
   ]
  },
  {
   "cell_type": "code",
   "execution_count": 210,
   "metadata": {},
   "outputs": [],
   "source": [
    "X = df [ ['Age', 'Sex', 'Pclass', 'Fare'] ]"
   ]
  },
  {
   "cell_type": "code",
   "execution_count": 211,
   "metadata": {},
   "outputs": [
    {
     "data": {
      "text/html": [
       "<div>\n",
       "<style scoped>\n",
       "    .dataframe tbody tr th:only-of-type {\n",
       "        vertical-align: middle;\n",
       "    }\n",
       "\n",
       "    .dataframe tbody tr th {\n",
       "        vertical-align: top;\n",
       "    }\n",
       "\n",
       "    .dataframe thead th {\n",
       "        text-align: right;\n",
       "    }\n",
       "</style>\n",
       "<table border=\"1\" class=\"dataframe\">\n",
       "  <thead>\n",
       "    <tr style=\"text-align: right;\">\n",
       "      <th></th>\n",
       "      <th>Age</th>\n",
       "      <th>Pclass</th>\n",
       "      <th>Fare</th>\n",
       "    </tr>\n",
       "  </thead>\n",
       "  <tbody>\n",
       "    <tr>\n",
       "      <th>count</th>\n",
       "      <td>714.00</td>\n",
       "      <td>891.00</td>\n",
       "      <td>891.00</td>\n",
       "    </tr>\n",
       "    <tr>\n",
       "      <th>mean</th>\n",
       "      <td>29.70</td>\n",
       "      <td>2.31</td>\n",
       "      <td>32.20</td>\n",
       "    </tr>\n",
       "    <tr>\n",
       "      <th>std</th>\n",
       "      <td>14.53</td>\n",
       "      <td>0.84</td>\n",
       "      <td>49.69</td>\n",
       "    </tr>\n",
       "    <tr>\n",
       "      <th>min</th>\n",
       "      <td>0.42</td>\n",
       "      <td>1.00</td>\n",
       "      <td>0.00</td>\n",
       "    </tr>\n",
       "    <tr>\n",
       "      <th>25%</th>\n",
       "      <td>20.12</td>\n",
       "      <td>2.00</td>\n",
       "      <td>7.91</td>\n",
       "    </tr>\n",
       "    <tr>\n",
       "      <th>50%</th>\n",
       "      <td>28.00</td>\n",
       "      <td>3.00</td>\n",
       "      <td>14.45</td>\n",
       "    </tr>\n",
       "    <tr>\n",
       "      <th>75%</th>\n",
       "      <td>38.00</td>\n",
       "      <td>3.00</td>\n",
       "      <td>31.00</td>\n",
       "    </tr>\n",
       "    <tr>\n",
       "      <th>max</th>\n",
       "      <td>80.00</td>\n",
       "      <td>3.00</td>\n",
       "      <td>512.33</td>\n",
       "    </tr>\n",
       "  </tbody>\n",
       "</table>\n",
       "</div>"
      ],
      "text/plain": [
       "         Age  Pclass   Fare\n",
       "count 714.00  891.00 891.00\n",
       "mean   29.70    2.31  32.20\n",
       "std    14.53    0.84  49.69\n",
       "min     0.42    1.00   0.00\n",
       "25%    20.12    2.00   7.91\n",
       "50%    28.00    3.00  14.45\n",
       "75%    38.00    3.00  31.00\n",
       "max    80.00    3.00 512.33"
      ]
     },
     "execution_count": 211,
     "metadata": {},
     "output_type": "execute_result"
    }
   ],
   "source": [
    "X.describe()"
   ]
  },
  {
   "cell_type": "markdown",
   "metadata": {},
   "source": [
    "## Separando os dados de treino e teste"
   ]
  },
  {
   "cell_type": "code",
   "execution_count": 212,
   "metadata": {},
   "outputs": [],
   "source": [
    "# Separa os dados com 70% dos dados para treino e 30% dos dados para teste\n",
    "X_treino, X_teste, y_treino, y_teste = train_test_split( X, y, \n",
    "                                                        train_size = 0.7, \n",
    "                                                        random_state = 42 )"
   ]
  },
  {
   "cell_type": "code",
   "execution_count": 213,
   "metadata": {},
   "outputs": [
    {
     "name": "stdout",
     "output_type": "stream",
     "text": [
      "623\n",
      "268\n",
      "623\n",
      "268\n"
     ]
    }
   ],
   "source": [
    "print( len( X_treino ) )\n",
    "print( len( X_teste ) )\n",
    "print( len( y_treino ) )\n",
    "print( len( y_teste ) )"
   ]
  },
  {
   "cell_type": "code",
   "execution_count": 214,
   "metadata": {},
   "outputs": [],
   "source": [
    "Xa_treino = arrumando_banco( X_treino )"
   ]
  },
  {
   "cell_type": "code",
   "execution_count": 215,
   "metadata": {},
   "outputs": [],
   "source": [
    "Xa_teste = arrumando_banco( X_teste )"
   ]
  },
  {
   "cell_type": "code",
   "execution_count": 216,
   "metadata": {},
   "outputs": [
    {
     "data": {
      "text/plain": [
       "Index(['Age', 'Pclass', 'Fare', 'Age_rec', 'Sex_male', 'Int_Age_Sex',\n",
       "       'Int_Age_Pclass'],\n",
       "      dtype='object')"
      ]
     },
     "execution_count": 216,
     "metadata": {},
     "output_type": "execute_result"
    }
   ],
   "source": [
    "Xa_treino.columns"
   ]
  },
  {
   "cell_type": "code",
   "execution_count": 217,
   "metadata": {},
   "outputs": [],
   "source": [
    "X1_treino = Xa_treino [[ 'Age', 'Pclass', 'Fare', 'Sex_male' ]]\n",
    "X2_treino = Xa_treino [[ 'Fare', 'Int_Age_Sex', 'Int_Age_Pclass' ]]\n",
    "X3_treino = Xa_treino [[ 'Pclass', 'Fare', 'Int_Age_Sex' ]]\n",
    "\n",
    "#X4_treino = Xa_treino [[ 'Age' ]]\n",
    "#X5_treino = Xa_treino [[ 'Age', 'Pclass' ]]\n",
    "#X6_treino = Xa_treino [[ 'Age', 'Pclass', 'Fare']]\n"
   ]
  },
  {
   "cell_type": "code",
   "execution_count": 218,
   "metadata": {},
   "outputs": [],
   "source": [
    "X1_teste = Xa_teste [[ 'Age', 'Pclass', 'Fare', 'Sex_male' ]]\n",
    "X2_teste = Xa_teste [[ 'Fare', 'Int_Age_Sex', 'Int_Age_Pclass' ]]\n",
    "X3_teste = Xa_teste [[ 'Pclass', 'Fare', 'Int_Age_Sex' ]]\n"
   ]
  },
  {
   "cell_type": "markdown",
   "metadata": {},
   "source": [
    "##################################################################################\n",
    "##################################################################################\n",
    "\n",
    "# TREINO / TESTE"
   ]
  },
  {
   "cell_type": "markdown",
   "metadata": {},
   "source": [
    "# Regressão Logística\n",
    "\n",
    "##################################################################################\n",
    "##################################################################################"
   ]
  },
  {
   "cell_type": "code",
   "execution_count": 219,
   "metadata": {},
   "outputs": [],
   "source": [
    "reglog1 = LogisticRegression( random_state=42 )\n",
    "reglog1.fit( X1_treino, y_treino )\n",
    "y_pred_reglog1 = reglog1.predict( X1_teste )\n",
    "\n",
    "reglog2 = LogisticRegression( random_state=42 )\n",
    "reglog2.fit( X2_treino, y_treino )\n",
    "y_pred_reglog2 = reglog2.predict( X2_teste )\n",
    "\n",
    "reglog3 = LogisticRegression( random_state=42 )\n",
    "reglog3.fit( X3_treino, y_treino )\n",
    "y_pred_reglog3 = reglog3.predict( X3_teste )"
   ]
  },
  {
   "cell_type": "markdown",
   "metadata": {},
   "source": [
    "# Decision Tree Classifier\n",
    "\n",
    "##################################################################################\n",
    "##################################################################################"
   ]
  },
  {
   "cell_type": "code",
   "execution_count": 220,
   "metadata": {},
   "outputs": [],
   "source": [
    "classifier_dt1 = DecisionTreeClassifier(random_state=42, criterion='gini', max_depth=3)\n",
    "classifier_dt1.fit( X1_treino, y_treino )\n",
    "y_pred_dt1 = classifier_dt1.predict( X1_teste )\n",
    "\n",
    "classifier_dt2 = DecisionTreeClassifier(random_state=42, criterion='gini', max_depth=3)\n",
    "classifier_dt2.fit( X2_treino, y_treino )\n",
    "y_pred_dt2 = classifier_dt2.predict( X2_teste )\n",
    "\n",
    "classifier_dt3 = DecisionTreeClassifier(random_state=42, criterion='gini', max_depth=3)\n",
    "classifier_dt3.fit( X3_treino, y_treino )\n",
    "y_pred_dt3 = classifier_dt3.predict( X3_teste )"
   ]
  },
  {
   "cell_type": "markdown",
   "metadata": {},
   "source": [
    "# Random Forest Classifier\n",
    "##################################################################################\n",
    "##################################################################################"
   ]
  },
  {
   "cell_type": "code",
   "execution_count": 221,
   "metadata": {},
   "outputs": [],
   "source": [
    "classifier_rf1 = RandomForestClassifier( random_state = 0, \n",
    "                                        criterion = 'gini', \n",
    "                                        max_depth = 10, \n",
    "                                        n_estimators = 50, \n",
    "                                        n_jobs = -1 )\n",
    "\n",
    "classifier_rf1.fit( X1_treino, y_treino )\n",
    "y_pred_rf1 = classifier_rf1.predict( X1_teste )\n",
    "\n",
    "classifier_rf2 = RandomForestClassifier( random_state = 0, criterion = 'gini', max_depth = 10, n_estimators = 50, n_jobs = -1 )\n",
    "classifier_rf2.fit( X2_treino, y_treino )\n",
    "y_pred_rf2 = classifier_rf2.predict( X2_teste )\n",
    "\n",
    "classifier_rf3 = RandomForestClassifier( random_state = 0, criterion = 'gini', max_depth = 10, n_estimators = 50, n_jobs = -1 )\n",
    "classifier_rf3.fit( X3_treino, y_treino )\n",
    "y_pred_rf3 = classifier_rf3.predict( X3_teste )"
   ]
  },
  {
   "cell_type": "markdown",
   "metadata": {},
   "source": [
    "# XGBoost Classifier\n",
    "\n",
    "##################################################################################\n",
    "##################################################################################"
   ]
  },
  {
   "cell_type": "code",
   "execution_count": 222,
   "metadata": {},
   "outputs": [],
   "source": [
    "classifier_xgb1 = XGBClassifier(eval_metric='mlogloss', random_state=0)\n",
    "classifier_xgb1.fit(X1_treino, y_treino)\n",
    "y_pred_xgb1 = classifier_xgb1.predict(X1_teste)\n",
    "\n",
    "classifier_xgb2 = XGBClassifier(eval_metric='mlogloss', random_state=0)\n",
    "classifier_xgb2.fit(X2_treino, y_treino)\n",
    "y_pred_xgb2 = classifier_xgb2.predict(X2_teste)\n",
    "\n",
    "classifier_xgb3 = XGBClassifier(eval_metric='mlogloss', random_state=0)\n",
    "classifier_xgb3.fit(X3_treino, y_treino)\n",
    "y_pred_xgb3 = classifier_xgb3.predict(X3_teste)"
   ]
  },
  {
   "cell_type": "markdown",
   "metadata": {},
   "source": [
    "# Métricas"
   ]
  },
  {
   "cell_type": "code",
   "execution_count": 223,
   "metadata": {},
   "outputs": [],
   "source": [
    "# plota tab 2x2 \n",
    "matriz_confusao1 = confusion_matrix( y_teste, y_pred_reglog1 )\n",
    "matriz_confusao2 = confusion_matrix( y_teste, y_pred_reglog2 )\n",
    "matriz_confusao3 = confusion_matrix( y_teste, y_pred_reglog3 )"
   ]
  },
  {
   "cell_type": "code",
   "execution_count": 224,
   "metadata": {},
   "outputs": [],
   "source": [
    "# Métricas Regressão Logística\n",
    "metrica_reglog1 = calcula_metricas( 'Reg. Logistica 1', reglog1, y_teste, y_pred_reglog1 )\n",
    "metrica_reglog2 = calcula_metricas( 'Reg. Logistica 2', reglog2, y_teste, y_pred_reglog2 )\n",
    "metrica_reglog3 = calcula_metricas( 'Reg. Logistica 3', reglog3, y_teste, y_pred_reglog3 )\n",
    "# Métricas Decision Tree\n",
    "metrica_dt1 = calcula_metricas( 'Decision Tree 1', classifier_dt1, y_teste, y_pred_dt1 )\n",
    "metrica_dt2 = calcula_metricas( 'Decision Tree 2', classifier_dt2, y_teste, y_pred_dt2 )\n",
    "metrica_dt3 = calcula_metricas( 'Decision Tree 3', classifier_dt3, y_teste, y_pred_dt3 )\n",
    "# Métricas Random Forest\n",
    "metrica_rf1 = calcula_metricas( 'Random Forest 1', classifier_rf1, y_teste, y_pred_rf1 )\n",
    "metrica_rf2 = calcula_metricas( 'Random Forest 2', classifier_rf2, y_teste, y_pred_rf2 )\n",
    "metrica_rf3 = calcula_metricas( 'Random Forest 3', classifier_rf3, y_teste, y_pred_rf3 )\n",
    "# Métricas XGBoost\n",
    "metrica_xgb1 = calcula_metricas( 'XGBoost Classifier 1', classifier_xgb1, y_teste, y_pred_xgb1 )\n",
    "metrica_xgb2 = calcula_metricas( 'XGBoost Classifier 2', classifier_xgb2, y_teste, y_pred_xgb2 )\n",
    "metrica_xgb3 = calcula_metricas( 'XGBoost Classifier 3', classifier_xgb3, y_teste, y_pred_xgb3 )"
   ]
  },
  {
   "cell_type": "markdown",
   "metadata": {},
   "source": [
    "## CROSS VALIDATION"
   ]
  },
  {
   "cell_type": "code",
   "execution_count": 225,
   "metadata": {},
   "outputs": [],
   "source": [
    "X_geral = arrumando_banco( X )\n",
    "\n",
    "X1_geral = X_geral [[ 'Age', 'Pclass','Fare', 'Sex_male' ]]\n",
    "X2_geral = X_geral [[ 'Int_Age_Sex', 'Int_Age_Pclass' ]]\n",
    "X3_geral = X_geral [[ 'Pclass', 'Fare', 'Int_Age_Sex' ]]"
   ]
  },
  {
   "cell_type": "markdown",
   "metadata": {},
   "source": [
    "## Métricas Cross Validation"
   ]
  },
  {
   "cell_type": "code",
   "execution_count": 226,
   "metadata": {},
   "outputs": [],
   "source": [
    "# Regressão Logística\n",
    "metrica_CV_reglog1 = CV_calc_metricas( 'CV - Reg. Logistica 1', reglog1, X1_geral, y )\n",
    "metrica_CV_reglog2 = CV_calc_metricas( 'CV - Reg. Logistica 2', reglog2, X2_geral, y )\n",
    "metrica_CV_reglog3 = CV_calc_metricas( 'CV - Reg. Logistica 3', reglog3, X3_geral, y )\n",
    "# Árvore de Decisão\n",
    "metrica_CV_classifier_dt1 = CV_calc_metricas( 'CV - Decision Tree 1', classifier_dt1, X1_geral, y )\n",
    "metrica_CV_classifier_dt2 = CV_calc_metricas( 'CV - Decision Tree 2', classifier_dt2, X2_geral, y )\n",
    "metrica_CV_classifier_dt3 = CV_calc_metricas( 'CV - Decision Tree 3', classifier_dt3, X3_geral, y )\n",
    "# Random Forest\n",
    "metrica_CV_classifier_rf1 = CV_calc_metricas( 'CV - Random Forest 1', classifier_dt1, X1_geral, y )\n",
    "metrica_CV_classifier_rf2 = CV_calc_metricas( 'CV - Random Forest 2', classifier_dt2, X2_geral, y )\n",
    "metrica_CV_classifier_rf3 = CV_calc_metricas( 'CV - Random Forest 3', classifier_dt3, X3_geral, y )\n",
    "# XGBoost Classifier\n",
    "metrica_CV_classifier_xgb1 = CV_calc_metricas( 'CV - XGBoost Classifier 1', classifier_xgb1, X1_geral, y )\n",
    "metrica_CV_classifier_xgb2 = CV_calc_metricas( 'CV - XGBoost Classifier 2', classifier_xgb2, X2_geral, y )\n",
    "metrica_CV_classifier_xgb3 = CV_calc_metricas( 'CV - XGBoost Classifier 3', classifier_xgb3, X3_geral, y )"
   ]
  },
  {
   "cell_type": "markdown",
   "metadata": {},
   "source": [
    "## Tabelas MÉTRICAS / MÉTRICAS CV"
   ]
  },
  {
   "cell_type": "code",
   "execution_count": 227,
   "metadata": {},
   "outputs": [
    {
     "data": {
      "text/html": [
       "<div>\n",
       "<style scoped>\n",
       "    .dataframe tbody tr th:only-of-type {\n",
       "        vertical-align: middle;\n",
       "    }\n",
       "\n",
       "    .dataframe tbody tr th {\n",
       "        vertical-align: top;\n",
       "    }\n",
       "\n",
       "    .dataframe thead th {\n",
       "        text-align: right;\n",
       "    }\n",
       "</style>\n",
       "<table border=\"1\" class=\"dataframe\">\n",
       "  <thead>\n",
       "    <tr style=\"text-align: right;\">\n",
       "      <th></th>\n",
       "      <th>Modelo</th>\n",
       "      <th>Precision</th>\n",
       "      <th>F1</th>\n",
       "      <th>Accuracy</th>\n",
       "    </tr>\n",
       "  </thead>\n",
       "  <tbody>\n",
       "    <tr>\n",
       "      <th>0</th>\n",
       "      <td>Random Forest 1</td>\n",
       "      <td>0.86</td>\n",
       "      <td>0.77</td>\n",
       "      <td>0.82</td>\n",
       "    </tr>\n",
       "    <tr>\n",
       "      <th>1</th>\n",
       "      <td>XGBoost Classifier 2</td>\n",
       "      <td>0.84</td>\n",
       "      <td>0.75</td>\n",
       "      <td>0.81</td>\n",
       "    </tr>\n",
       "    <tr>\n",
       "      <th>2</th>\n",
       "      <td>XGBoost Classifier 3</td>\n",
       "      <td>0.83</td>\n",
       "      <td>0.75</td>\n",
       "      <td>0.81</td>\n",
       "    </tr>\n",
       "    <tr>\n",
       "      <th>3</th>\n",
       "      <td>Decision Tree 3</td>\n",
       "      <td>0.82</td>\n",
       "      <td>0.75</td>\n",
       "      <td>0.81</td>\n",
       "    </tr>\n",
       "    <tr>\n",
       "      <th>4</th>\n",
       "      <td>Decision Tree 1</td>\n",
       "      <td>0.82</td>\n",
       "      <td>0.75</td>\n",
       "      <td>0.81</td>\n",
       "    </tr>\n",
       "    <tr>\n",
       "      <th>5</th>\n",
       "      <td>Random Forest 3</td>\n",
       "      <td>0.81</td>\n",
       "      <td>0.73</td>\n",
       "      <td>0.80</td>\n",
       "    </tr>\n",
       "    <tr>\n",
       "      <th>6</th>\n",
       "      <td>Reg. Logistica 1</td>\n",
       "      <td>0.77</td>\n",
       "      <td>0.74</td>\n",
       "      <td>0.79</td>\n",
       "    </tr>\n",
       "    <tr>\n",
       "      <th>7</th>\n",
       "      <td>XGBoost Classifier 1</td>\n",
       "      <td>0.77</td>\n",
       "      <td>0.74</td>\n",
       "      <td>0.79</td>\n",
       "    </tr>\n",
       "    <tr>\n",
       "      <th>8</th>\n",
       "      <td>Decision Tree 2</td>\n",
       "      <td>0.77</td>\n",
       "      <td>0.74</td>\n",
       "      <td>0.79</td>\n",
       "    </tr>\n",
       "    <tr>\n",
       "      <th>9</th>\n",
       "      <td>Reg. Logistica 3</td>\n",
       "      <td>0.79</td>\n",
       "      <td>0.72</td>\n",
       "      <td>0.79</td>\n",
       "    </tr>\n",
       "    <tr>\n",
       "      <th>10</th>\n",
       "      <td>Reg. Logistica 2</td>\n",
       "      <td>0.77</td>\n",
       "      <td>0.71</td>\n",
       "      <td>0.78</td>\n",
       "    </tr>\n",
       "    <tr>\n",
       "      <th>11</th>\n",
       "      <td>Random Forest 2</td>\n",
       "      <td>0.78</td>\n",
       "      <td>0.70</td>\n",
       "      <td>0.78</td>\n",
       "    </tr>\n",
       "  </tbody>\n",
       "</table>\n",
       "</div>"
      ],
      "text/plain": [
       "                  Modelo  Precision   F1  Accuracy\n",
       "0        Random Forest 1       0.86 0.77      0.82\n",
       "1   XGBoost Classifier 2       0.84 0.75      0.81\n",
       "2   XGBoost Classifier 3       0.83 0.75      0.81\n",
       "3        Decision Tree 3       0.82 0.75      0.81\n",
       "4        Decision Tree 1       0.82 0.75      0.81\n",
       "5        Random Forest 3       0.81 0.73      0.80\n",
       "6       Reg. Logistica 1       0.77 0.74      0.79\n",
       "7   XGBoost Classifier 1       0.77 0.74      0.79\n",
       "8        Decision Tree 2       0.77 0.74      0.79\n",
       "9       Reg. Logistica 3       0.79 0.72      0.79\n",
       "10      Reg. Logistica 2       0.77 0.71      0.78\n",
       "11       Random Forest 2       0.78 0.70      0.78"
      ]
     },
     "execution_count": 227,
     "metadata": {},
     "output_type": "execute_result"
    }
   ],
   "source": [
    "table_information = pd.concat([ metrica_reglog1, metrica_reglog2, metrica_reglog3,\n",
    "                                metrica_dt1, metrica_dt2, metrica_dt3,\n",
    "                                metrica_rf1, metrica_rf2, metrica_rf3,\n",
    "                                metrica_xgb1, metrica_xgb2, metrica_xgb3 ])\n",
    "\n",
    "table_information.sort_values( \"Accuracy\", ascending = False ).reset_index( drop = True )"
   ]
  },
  {
   "cell_type": "code",
   "execution_count": 228,
   "metadata": {},
   "outputs": [
    {
     "data": {
      "text/html": [
       "<div>\n",
       "<style scoped>\n",
       "    .dataframe tbody tr th:only-of-type {\n",
       "        vertical-align: middle;\n",
       "    }\n",
       "\n",
       "    .dataframe tbody tr th {\n",
       "        vertical-align: top;\n",
       "    }\n",
       "\n",
       "    .dataframe thead th {\n",
       "        text-align: right;\n",
       "    }\n",
       "</style>\n",
       "<table border=\"1\" class=\"dataframe\">\n",
       "  <thead>\n",
       "    <tr style=\"text-align: right;\">\n",
       "      <th></th>\n",
       "      <th>Modelo</th>\n",
       "      <th>Precision</th>\n",
       "      <th>F1</th>\n",
       "      <th>Accuracy</th>\n",
       "    </tr>\n",
       "  </thead>\n",
       "  <tbody>\n",
       "    <tr>\n",
       "      <th>0</th>\n",
       "      <td>CV - XGBoost Classifier 3</td>\n",
       "      <td>0.80</td>\n",
       "      <td>0.75</td>\n",
       "      <td>0.82</td>\n",
       "    </tr>\n",
       "    <tr>\n",
       "      <th>1</th>\n",
       "      <td>CV - Decision Tree 3</td>\n",
       "      <td>0.80</td>\n",
       "      <td>0.74</td>\n",
       "      <td>0.81</td>\n",
       "    </tr>\n",
       "    <tr>\n",
       "      <th>2</th>\n",
       "      <td>CV - Random Forest 3</td>\n",
       "      <td>0.80</td>\n",
       "      <td>0.74</td>\n",
       "      <td>0.81</td>\n",
       "    </tr>\n",
       "    <tr>\n",
       "      <th>3</th>\n",
       "      <td>CV - Decision Tree 1</td>\n",
       "      <td>0.80</td>\n",
       "      <td>0.73</td>\n",
       "      <td>0.81</td>\n",
       "    </tr>\n",
       "    <tr>\n",
       "      <th>4</th>\n",
       "      <td>CV - Random Forest 1</td>\n",
       "      <td>0.80</td>\n",
       "      <td>0.73</td>\n",
       "      <td>0.81</td>\n",
       "    </tr>\n",
       "    <tr>\n",
       "      <th>5</th>\n",
       "      <td>CV - XGBoost Classifier 1</td>\n",
       "      <td>0.76</td>\n",
       "      <td>0.74</td>\n",
       "      <td>0.81</td>\n",
       "    </tr>\n",
       "    <tr>\n",
       "      <th>6</th>\n",
       "      <td>CV - Decision Tree 2</td>\n",
       "      <td>0.72</td>\n",
       "      <td>0.73</td>\n",
       "      <td>0.79</td>\n",
       "    </tr>\n",
       "    <tr>\n",
       "      <th>7</th>\n",
       "      <td>CV - Random Forest 2</td>\n",
       "      <td>0.72</td>\n",
       "      <td>0.73</td>\n",
       "      <td>0.79</td>\n",
       "    </tr>\n",
       "    <tr>\n",
       "      <th>8</th>\n",
       "      <td>CV - XGBoost Classifier 2</td>\n",
       "      <td>0.72</td>\n",
       "      <td>0.73</td>\n",
       "      <td>0.79</td>\n",
       "    </tr>\n",
       "    <tr>\n",
       "      <th>9</th>\n",
       "      <td>CV - Reg. Logistica 1</td>\n",
       "      <td>0.73</td>\n",
       "      <td>0.72</td>\n",
       "      <td>0.79</td>\n",
       "    </tr>\n",
       "    <tr>\n",
       "      <th>10</th>\n",
       "      <td>CV - Reg. Logistica 3</td>\n",
       "      <td>0.75</td>\n",
       "      <td>0.70</td>\n",
       "      <td>0.78</td>\n",
       "    </tr>\n",
       "    <tr>\n",
       "      <th>11</th>\n",
       "      <td>CV - Reg. Logistica 2</td>\n",
       "      <td>0.76</td>\n",
       "      <td>0.68</td>\n",
       "      <td>0.78</td>\n",
       "    </tr>\n",
       "  </tbody>\n",
       "</table>\n",
       "</div>"
      ],
      "text/plain": [
       "                       Modelo  Precision   F1  Accuracy\n",
       "0   CV - XGBoost Classifier 3       0.80 0.75      0.82\n",
       "1        CV - Decision Tree 3       0.80 0.74      0.81\n",
       "2        CV - Random Forest 3       0.80 0.74      0.81\n",
       "3        CV - Decision Tree 1       0.80 0.73      0.81\n",
       "4        CV - Random Forest 1       0.80 0.73      0.81\n",
       "5   CV - XGBoost Classifier 1       0.76 0.74      0.81\n",
       "6        CV - Decision Tree 2       0.72 0.73      0.79\n",
       "7        CV - Random Forest 2       0.72 0.73      0.79\n",
       "8   CV - XGBoost Classifier 2       0.72 0.73      0.79\n",
       "9       CV - Reg. Logistica 1       0.73 0.72      0.79\n",
       "10      CV - Reg. Logistica 3       0.75 0.70      0.78\n",
       "11      CV - Reg. Logistica 2       0.76 0.68      0.78"
      ]
     },
     "execution_count": 228,
     "metadata": {},
     "output_type": "execute_result"
    }
   ],
   "source": [
    "table2_information = pd.concat([ metrica_CV_reglog1, metrica_CV_reglog2, metrica_CV_reglog3,\n",
    "                                metrica_CV_classifier_dt1, metrica_CV_classifier_dt2, metrica_CV_classifier_dt3, \n",
    "                                metrica_CV_classifier_rf1, metrica_CV_classifier_rf2, metrica_CV_classifier_rf3, \n",
    "                                metrica_CV_classifier_xgb1, metrica_CV_classifier_xgb2, metrica_CV_classifier_xgb3\n",
    "                                ])\n",
    "\n",
    "table2_information.sort_values( \"Accuracy\", ascending = False ).reset_index( drop = True )"
   ]
  },
  {
   "cell_type": "markdown",
   "metadata": {},
   "source": [
    "## Feature Importance"
   ]
  },
  {
   "cell_type": "code",
   "execution_count": 315,
   "metadata": {},
   "outputs": [],
   "source": [
    "#features_importance = zip(classifier_rf1.feature_importances_, X2_geral)\n",
    "#for importance, feature in sorted(features_importance, reverse=True):\n",
    "    #print(\"%s: %f%%\" % (feature, importance*100))"
   ]
  },
  {
   "cell_type": "markdown",
   "metadata": {},
   "source": [
    "# 7 - Tunagem de hiperparâmetros\n",
    "## Random Forest"
   ]
  },
  {
   "cell_type": "code",
   "execution_count": 127,
   "metadata": {},
   "outputs": [
    {
     "name": "stderr",
     "output_type": "stream",
     "text": [
      "[I 2023-08-22 22:19:36,297] A new study created in memory with name: no-name-2a99bdda-ce0d-4bc2-a383-ac2ffbbfd6a3\n"
     ]
    },
    {
     "name": "stderr",
     "output_type": "stream",
     "text": [
      "[I 2023-08-22 22:19:37,326] Trial 0 finished with value: 0.7913419354838711 and parameters: {'rf_max_depth': 33, 'rf_n_estimators': 40, 'rf_min_samples_split': 2}. Best is trial 0 with value: 0.7913419354838711.\n",
      "[I 2023-08-22 22:19:38,531] Trial 1 finished with value: 0.8154322580645161 and parameters: {'rf_max_depth': 51, 'rf_n_estimators': 42, 'rf_min_samples_split': 10}. Best is trial 1 with value: 0.8154322580645161.\n",
      "[I 2023-08-22 22:19:39,166] Trial 2 finished with value: 0.8009677419354839 and parameters: {'rf_max_depth': 54, 'rf_n_estimators': 26, 'rf_min_samples_split': 2}. Best is trial 1 with value: 0.8154322580645161.\n",
      "[I 2023-08-22 22:19:40,237] Trial 3 finished with value: 0.812232258064516 and parameters: {'rf_max_depth': 26, 'rf_n_estimators': 15, 'rf_min_samples_split': 4}. Best is trial 1 with value: 0.8154322580645161.\n",
      "[I 2023-08-22 22:19:41,231] Trial 4 finished with value: 0.7993806451612904 and parameters: {'rf_max_depth': 28, 'rf_n_estimators': 24, 'rf_min_samples_split': 2}. Best is trial 1 with value: 0.8154322580645161.\n",
      "[I 2023-08-22 22:19:41,660] Trial 5 finished with value: 0.8106064516129032 and parameters: {'rf_max_depth': 61, 'rf_n_estimators': 13, 'rf_min_samples_split': 4}. Best is trial 1 with value: 0.8154322580645161.\n",
      "[I 2023-08-22 22:19:42,180] Trial 6 finished with value: 0.8186451612903225 and parameters: {'rf_max_depth': 15, 'rf_n_estimators': 13, 'rf_min_samples_split': 8}. Best is trial 6 with value: 0.8186451612903225.\n",
      "[I 2023-08-22 22:19:42,682] Trial 7 finished with value: 0.8202967741935485 and parameters: {'rf_max_depth': 6, 'rf_n_estimators': 18, 'rf_min_samples_split': 4}. Best is trial 7 with value: 0.8202967741935485.\n",
      "[I 2023-08-22 22:19:43,544] Trial 8 finished with value: 0.8009677419354839 and parameters: {'rf_max_depth': 33, 'rf_n_estimators': 33, 'rf_min_samples_split': 3}. Best is trial 7 with value: 0.8202967741935485.\n",
      "[I 2023-08-22 22:19:44,345] Trial 9 finished with value: 0.8025806451612902 and parameters: {'rf_max_depth': 60, 'rf_n_estimators': 37, 'rf_min_samples_split': 3}. Best is trial 7 with value: 0.8202967741935485.\n",
      "[I 2023-08-22 22:19:44,647] Trial 10 finished with value: 0.7320645161290322 and parameters: {'rf_max_depth': 2, 'rf_n_estimators': 3, 'rf_min_samples_split': 6}. Best is trial 7 with value: 0.8202967741935485.\n",
      "[I 2023-08-22 22:19:45,067] Trial 11 finished with value: 0.8010064516129033 and parameters: {'rf_max_depth': 5, 'rf_n_estimators': 14, 'rf_min_samples_split': 9}. Best is trial 7 with value: 0.8202967741935485.\n",
      "[I 2023-08-22 22:19:45,367] Trial 12 finished with value: 0.776916129032258 and parameters: {'rf_max_depth': 13, 'rf_n_estimators': 2, 'rf_min_samples_split': 7}. Best is trial 7 with value: 0.8202967741935485.\n",
      "[I 2023-08-22 22:19:45,843] Trial 13 finished with value: 0.7962064516129033 and parameters: {'rf_max_depth': 18, 'rf_n_estimators': 18, 'rf_min_samples_split': 7}. Best is trial 7 with value: 0.8202967741935485.\n",
      "[I 2023-08-22 22:19:46,248] Trial 14 finished with value: 0.8009935483870969 and parameters: {'rf_max_depth': 14, 'rf_n_estimators': 9, 'rf_min_samples_split': 6}. Best is trial 7 with value: 0.8202967741935485.\n",
      "[I 2023-08-22 22:19:46,928] Trial 15 finished with value: 0.8218838709677418 and parameters: {'rf_max_depth': 9, 'rf_n_estimators': 22, 'rf_min_samples_split': 8}. Best is trial 15 with value: 0.8218838709677418.\n",
      "[I 2023-08-22 22:19:47,958] Trial 16 finished with value: 0.8202451612903225 and parameters: {'rf_max_depth': 7, 'rf_n_estimators': 50, 'rf_min_samples_split': 5}. Best is trial 15 with value: 0.8218838709677418.\n",
      "[I 2023-08-22 22:19:48,629] Trial 17 finished with value: 0.8154580645161289 and parameters: {'rf_max_depth': 41, 'rf_n_estimators': 21, 'rf_min_samples_split': 8}. Best is trial 15 with value: 0.8218838709677418.\n",
      "[I 2023-08-22 22:19:49,268] Trial 18 finished with value: 0.8138322580645161 and parameters: {'rf_max_depth': 22, 'rf_n_estimators': 29, 'rf_min_samples_split': 5}. Best is trial 15 with value: 0.8218838709677418.\n",
      "[I 2023-08-22 22:19:49,623] Trial 19 finished with value: 0.8138580645161291 and parameters: {'rf_max_depth': 9, 'rf_n_estimators': 7, 'rf_min_samples_split': 10}. Best is trial 15 with value: 0.8218838709677418.\n",
      "[I 2023-08-22 22:19:50,144] Trial 20 finished with value: 0.8154838709677419 and parameters: {'rf_max_depth': 44, 'rf_n_estimators': 20, 'rf_min_samples_split': 8}. Best is trial 15 with value: 0.8218838709677418.\n",
      "[I 2023-08-22 22:19:51,261] Trial 21 finished with value: 0.8154322580645161 and parameters: {'rf_max_depth': 5, 'rf_n_estimators': 50, 'rf_min_samples_split': 5}. Best is trial 15 with value: 0.8218838709677418.\n",
      "[I 2023-08-22 22:19:52,223] Trial 22 finished with value: 0.8218709677419357 and parameters: {'rf_max_depth': 9, 'rf_n_estimators': 48, 'rf_min_samples_split': 5}. Best is trial 15 with value: 0.8218838709677418.\n",
      "[I 2023-08-22 22:19:52,803] Trial 23 finished with value: 0.8202709677419355 and parameters: {'rf_max_depth': 9, 'rf_n_estimators': 25, 'rf_min_samples_split': 4}. Best is trial 15 with value: 0.8218838709677418.\n",
      "[I 2023-08-22 22:19:53,526] Trial 24 finished with value: 0.8058193548387097 and parameters: {'rf_max_depth': 19, 'rf_n_estimators': 31, 'rf_min_samples_split': 6}. Best is trial 15 with value: 0.8218838709677418.\n",
      "[I 2023-08-22 22:19:54,292] Trial 25 finished with value: 0.7656903225806453 and parameters: {'rf_max_depth': 2, 'rf_n_estimators': 44, 'rf_min_samples_split': 7}. Best is trial 15 with value: 0.8218838709677418.\n",
      "[I 2023-08-22 22:19:55,007] Trial 26 finished with value: 0.8009677419354839 and parameters: {'rf_max_depth': 25, 'rf_n_estimators': 33, 'rf_min_samples_split': 3}. Best is trial 15 with value: 0.8218838709677418.\n",
      "[I 2023-08-22 22:19:55,494] Trial 27 finished with value: 0.8234967741935483 and parameters: {'rf_max_depth': 12, 'rf_n_estimators': 18, 'rf_min_samples_split': 9}. Best is trial 27 with value: 0.8234967741935483.\n",
      "[I 2023-08-22 22:19:56,392] Trial 28 finished with value: 0.8234580645161291 and parameters: {'rf_max_depth': 13, 'rf_n_estimators': 46, 'rf_min_samples_split': 9}. Best is trial 27 with value: 0.8234967741935483.\n",
      "[I 2023-08-22 22:19:57,392] Trial 29 finished with value: 0.8186580645161291 and parameters: {'rf_max_depth': 38, 'rf_n_estimators': 38, 'rf_min_samples_split': 9}. Best is trial 27 with value: 0.8234967741935483.\n",
      "[I 2023-08-22 22:19:58,931] Trial 30 finished with value: 0.8090451612903227 and parameters: {'rf_max_depth': 20, 'rf_n_estimators': 22, 'rf_min_samples_split': 9}. Best is trial 27 with value: 0.8234967741935483.\n",
      "[I 2023-08-22 22:20:01,413] Trial 31 finished with value: 0.8186580645161291 and parameters: {'rf_max_depth': 12, 'rf_n_estimators': 46, 'rf_min_samples_split': 9}. Best is trial 27 with value: 0.8234967741935483.\n",
      "[I 2023-08-22 22:20:02,382] Trial 32 finished with value: 0.8218580645161291 and parameters: {'rf_max_depth': 11, 'rf_n_estimators': 41, 'rf_min_samples_split': 10}. Best is trial 27 with value: 0.8234967741935483.\n",
      "[I 2023-08-22 22:20:03,234] Trial 33 finished with value: 0.8234967741935485 and parameters: {'rf_max_depth': 16, 'rf_n_estimators': 46, 'rf_min_samples_split': 8}. Best is trial 33 with value: 0.8234967741935485.\n",
      "[I 2023-08-22 22:20:04,245] Trial 34 finished with value: 0.8154709677419355 and parameters: {'rf_max_depth': 17, 'rf_n_estimators': 29, 'rf_min_samples_split': 8}. Best is trial 33 with value: 0.8234967741935485.\n",
      "[I 2023-08-22 22:20:05,045] Trial 35 finished with value: 0.8154451612903226 and parameters: {'rf_max_depth': 30, 'rf_n_estimators': 44, 'rf_min_samples_split': 10}. Best is trial 33 with value: 0.8234967741935485.\n",
      "[I 2023-08-22 22:20:07,124] Trial 36 finished with value: 0.8186451612903227 and parameters: {'rf_max_depth': 24, 'rf_n_estimators': 36, 'rf_min_samples_split': 9}. Best is trial 33 with value: 0.8234967741935485.\n",
      "[I 2023-08-22 22:20:08,056] Trial 37 finished with value: 0.8154967741935483 and parameters: {'rf_max_depth': 16, 'rf_n_estimators': 27, 'rf_min_samples_split': 8}. Best is trial 33 with value: 0.8234967741935485.\n",
      "[I 2023-08-22 22:20:08,542] Trial 38 finished with value: 0.8026193548387097 and parameters: {'rf_max_depth': 28, 'rf_n_estimators': 17, 'rf_min_samples_split': 7}. Best is trial 33 with value: 0.8234967741935485.\n",
      "[I 2023-08-22 22:20:08,898] Trial 39 finished with value: 0.8203096774193549 and parameters: {'rf_max_depth': 20, 'rf_n_estimators': 10, 'rf_min_samples_split': 10}. Best is trial 33 with value: 0.8234967741935485.\n",
      "[I 2023-08-22 22:20:09,604] Trial 40 finished with value: 0.8202838709677419 and parameters: {'rf_max_depth': 15, 'rf_n_estimators': 39, 'rf_min_samples_split': 8}. Best is trial 33 with value: 0.8234967741935485.\n",
      "[I 2023-08-22 22:20:10,381] Trial 41 finished with value: 0.8315096774193549 and parameters: {'rf_max_depth': 10, 'rf_n_estimators': 47, 'rf_min_samples_split': 9}. Best is trial 41 with value: 0.8315096774193549.\n",
      "[I 2023-08-22 22:20:11,112] Trial 42 finished with value: 0.8282838709677419 and parameters: {'rf_max_depth': 10, 'rf_n_estimators': 43, 'rf_min_samples_split': 9}. Best is trial 41 with value: 0.8315096774193549.\n",
      "[I 2023-08-22 22:20:12,413] Trial 43 finished with value: 0.8186580645161291 and parameters: {'rf_max_depth': 12, 'rf_n_estimators': 43, 'rf_min_samples_split': 9}. Best is trial 41 with value: 0.8315096774193549.\n",
      "[I 2023-08-22 22:20:13,461] Trial 44 finished with value: 0.8170064516129033 and parameters: {'rf_max_depth': 4, 'rf_n_estimators': 46, 'rf_min_samples_split': 9}. Best is trial 41 with value: 0.8315096774193549.\n",
      "[I 2023-08-22 22:20:14,473] Trial 45 finished with value: 0.8186580645161289 and parameters: {'rf_max_depth': 22, 'rf_n_estimators': 46, 'rf_min_samples_split': 10}. Best is trial 41 with value: 0.8315096774193549.\n",
      "[I 2023-08-22 22:20:15,214] Trial 46 finished with value: 0.8266580645161291 and parameters: {'rf_max_depth': 50, 'rf_n_estimators': 41, 'rf_min_samples_split': 9}. Best is trial 41 with value: 0.8315096774193549.\n",
      "[I 2023-08-22 22:20:16,062] Trial 47 finished with value: 0.8154322580645161 and parameters: {'rf_max_depth': 49, 'rf_n_estimators': 40, 'rf_min_samples_split': 10}. Best is trial 41 with value: 0.8315096774193549.\n",
      "[I 2023-08-22 22:20:16,821] Trial 48 finished with value: 0.8202838709677419 and parameters: {'rf_max_depth': 58, 'rf_n_estimators': 42, 'rf_min_samples_split': 8}. Best is trial 41 with value: 0.8315096774193549.\n",
      "[I 2023-08-22 22:20:17,493] Trial 49 finished with value: 0.8170451612903227 and parameters: {'rf_max_depth': 50, 'rf_n_estimators': 35, 'rf_min_samples_split': 9}. Best is trial 41 with value: 0.8315096774193549.\n",
      "[I 2023-08-22 22:20:18,273] Trial 50 finished with value: 0.8138580645161291 and parameters: {'rf_max_depth': 63, 'rf_n_estimators': 48, 'rf_min_samples_split': 7}. Best is trial 41 with value: 0.8315096774193549.\n",
      "[I 2023-08-22 22:20:19,089] Trial 51 finished with value: 0.8202709677419355 and parameters: {'rf_max_depth': 55, 'rf_n_estimators': 48, 'rf_min_samples_split': 9}. Best is trial 41 with value: 0.8315096774193549.\n",
      "[I 2023-08-22 22:20:19,838] Trial 52 finished with value: 0.8282709677419355 and parameters: {'rf_max_depth': 7, 'rf_n_estimators': 45, 'rf_min_samples_split': 9}. Best is trial 41 with value: 0.8315096774193549.\n",
      "[I 2023-08-22 22:20:20,604] Trial 53 finished with value: 0.8154451612903226 and parameters: {'rf_max_depth': 36, 'rf_n_estimators': 44, 'rf_min_samples_split': 10}. Best is trial 41 with value: 0.8315096774193549.\n",
      "[I 2023-08-22 22:20:21,323] Trial 54 finished with value: 0.8186193548387097 and parameters: {'rf_max_depth': 7, 'rf_n_estimators': 41, 'rf_min_samples_split': 8}. Best is trial 41 with value: 0.8315096774193549.\n",
      "[I 2023-08-22 22:20:22,098] Trial 55 finished with value: 0.7657161290322582 and parameters: {'rf_max_depth': 3, 'rf_n_estimators': 50, 'rf_min_samples_split': 9}. Best is trial 41 with value: 0.8315096774193549.\n",
      "[I 2023-08-22 22:20:22,889] Trial 56 finished with value: 0.8218580645161291 and parameters: {'rf_max_depth': 10, 'rf_n_estimators': 48, 'rf_min_samples_split': 8}. Best is trial 41 with value: 0.8315096774193549.\n",
      "[I 2023-08-22 22:20:23,582] Trial 57 finished with value: 0.8186451612903225 and parameters: {'rf_max_depth': 47, 'rf_n_estimators': 38, 'rf_min_samples_split': 10}. Best is trial 41 with value: 0.8315096774193549.\n",
      "[I 2023-08-22 22:20:24,384] Trial 58 finished with value: 0.8170064516129033 and parameters: {'rf_max_depth': 7, 'rf_n_estimators': 42, 'rf_min_samples_split': 8}. Best is trial 41 with value: 0.8315096774193549.\n",
      "[I 2023-08-22 22:20:25,125] Trial 59 finished with value: 0.8202709677419355 and parameters: {'rf_max_depth': 15, 'rf_n_estimators': 45, 'rf_min_samples_split': 9}. Best is trial 41 with value: 0.8315096774193549.\n",
      "[I 2023-08-22 22:20:25,723] Trial 60 finished with value: 0.8218838709677421 and parameters: {'rf_max_depth': 6, 'rf_n_estimators': 34, 'rf_min_samples_split': 7}. Best is trial 41 with value: 0.8315096774193549.\n",
      "[I 2023-08-22 22:20:26,542] Trial 61 finished with value: 0.8218709677419355 and parameters: {'rf_max_depth': 13, 'rf_n_estimators': 47, 'rf_min_samples_split': 9}. Best is trial 41 with value: 0.8315096774193549.\n",
      "[I 2023-08-22 22:20:27,350] Trial 62 finished with value: 0.8234967741935485 and parameters: {'rf_max_depth': 10, 'rf_n_estimators': 50, 'rf_min_samples_split': 9}. Best is trial 41 with value: 0.8315096774193549.\n",
      "[I 2023-08-22 22:20:28,189] Trial 63 finished with value: 0.8234967741935485 and parameters: {'rf_max_depth': 10, 'rf_n_estimators': 50, 'rf_min_samples_split': 9}. Best is trial 41 with value: 0.8315096774193549.\n",
      "[I 2023-08-22 22:20:29,092] Trial 64 finished with value: 0.8138580645161289 and parameters: {'rf_max_depth': 8, 'rf_n_estimators': 50, 'rf_min_samples_split': 10}. Best is trial 41 with value: 0.8315096774193549.\n",
      "[I 2023-08-22 22:20:29,873] Trial 65 finished with value: 0.8218193548387097 and parameters: {'rf_max_depth': 4, 'rf_n_estimators': 48, 'rf_min_samples_split': 9}. Best is trial 41 with value: 0.8315096774193549.\n",
      "[I 2023-08-22 22:20:30,755] Trial 66 finished with value: 0.8202838709677419 and parameters: {'rf_max_depth': 18, 'rf_n_estimators': 50, 'rf_min_samples_split': 8}. Best is trial 41 with value: 0.8315096774193549.\n",
      "[I 2023-08-22 22:20:31,506] Trial 67 finished with value: 0.8282838709677419 and parameters: {'rf_max_depth': 10, 'rf_n_estimators': 43, 'rf_min_samples_split': 9}. Best is trial 41 with value: 0.8315096774193549.\n",
      "[I 2023-08-22 22:20:32,334] Trial 68 finished with value: 0.7672903225806452 and parameters: {'rf_max_depth': 2, 'rf_n_estimators': 43, 'rf_min_samples_split': 10}. Best is trial 41 with value: 0.8315096774193549.\n",
      "[I 2023-08-22 22:20:33,071] Trial 69 finished with value: 0.8250838709677419 and parameters: {'rf_max_depth': 6, 'rf_n_estimators': 40, 'rf_min_samples_split': 9}. Best is trial 41 with value: 0.8315096774193549.\n",
      "[I 2023-08-22 22:20:33,723] Trial 70 finished with value: 0.8186451612903227 and parameters: {'rf_max_depth': 5, 'rf_n_estimators': 39, 'rf_min_samples_split': 8}. Best is trial 41 with value: 0.8315096774193549.\n",
      "[I 2023-08-22 22:20:34,523] Trial 71 finished with value: 0.8138451612903227 and parameters: {'rf_max_depth': 8, 'rf_n_estimators': 45, 'rf_min_samples_split': 9}. Best is trial 41 with value: 0.8315096774193549.\n",
      "[I 2023-08-22 22:20:35,273] Trial 72 finished with value: 0.8202580645161289 and parameters: {'rf_max_depth': 9, 'rf_n_estimators': 40, 'rf_min_samples_split': 9}. Best is trial 41 with value: 0.8315096774193549.\n",
      "[I 2023-08-22 22:20:36,072] Trial 73 finished with value: 0.8186580645161291 and parameters: {'rf_max_depth': 11, 'rf_n_estimators': 43, 'rf_min_samples_split': 9}. Best is trial 41 with value: 0.8315096774193549.\n",
      "[I 2023-08-22 22:20:36,749] Trial 74 finished with value: 0.8170580645161291 and parameters: {'rf_max_depth': 14, 'rf_n_estimators': 37, 'rf_min_samples_split': 10}. Best is trial 41 with value: 0.8315096774193549.\n",
      "[I 2023-08-22 22:20:37,515] Trial 75 finished with value: 0.8266838709677419 and parameters: {'rf_max_depth': 6, 'rf_n_estimators': 45, 'rf_min_samples_split': 9}. Best is trial 41 with value: 0.8315096774193549.\n",
      "[I 2023-08-22 22:20:38,244] Trial 76 finished with value: 0.8250580645161291 and parameters: {'rf_max_depth': 6, 'rf_n_estimators': 41, 'rf_min_samples_split': 8}. Best is trial 41 with value: 0.8315096774193549.\n",
      "[I 2023-08-22 22:20:38,943] Trial 77 finished with value: 0.8250838709677419 and parameters: {'rf_max_depth': 6, 'rf_n_estimators': 40, 'rf_min_samples_split': 9}. Best is trial 41 with value: 0.8315096774193549.\n",
      "[I 2023-08-22 22:20:40,062] Trial 78 finished with value: 0.8218580645161289 and parameters: {'rf_max_depth': 42, 'rf_n_estimators': 32, 'rf_min_samples_split': 10}. Best is trial 41 with value: 0.8315096774193549.\n",
      "[I 2023-08-22 22:20:40,996] Trial 79 finished with value: 0.8186322580645161 and parameters: {'rf_max_depth': 4, 'rf_n_estimators': 37, 'rf_min_samples_split': 9}. Best is trial 41 with value: 0.8315096774193549.\n",
      "[I 2023-08-22 22:20:41,674] Trial 80 finished with value: 0.7608774193548388 and parameters: {'rf_max_depth': 2, 'rf_n_estimators': 42, 'rf_min_samples_split': 10}. Best is trial 41 with value: 0.8315096774193549.\n",
      "[I 2023-08-22 22:20:42,361] Trial 81 finished with value: 0.8282838709677419 and parameters: {'rf_max_depth': 6, 'rf_n_estimators': 41, 'rf_min_samples_split': 9}. Best is trial 41 with value: 0.8315096774193549.\n",
      "[I 2023-08-22 22:20:43,139] Trial 82 finished with value: 0.8266838709677419 and parameters: {'rf_max_depth': 6, 'rf_n_estimators': 44, 'rf_min_samples_split': 9}. Best is trial 41 with value: 0.8315096774193549.\n",
      "[I 2023-08-22 22:20:43,925] Trial 83 finished with value: 0.8154580645161291 and parameters: {'rf_max_depth': 8, 'rf_n_estimators': 43, 'rf_min_samples_split': 9}. Best is trial 41 with value: 0.8315096774193549.\n",
      "[I 2023-08-22 22:20:45,563] Trial 84 finished with value: 0.8250322580645163 and parameters: {'rf_max_depth': 4, 'rf_n_estimators': 45, 'rf_min_samples_split': 2}. Best is trial 41 with value: 0.8315096774193549.\n",
      "[I 2023-08-22 22:20:48,091] Trial 85 finished with value: 0.8186580645161291 and parameters: {'rf_max_depth': 33, 'rf_n_estimators': 44, 'rf_min_samples_split': 9}. Best is trial 41 with value: 0.8315096774193549.\n",
      "[I 2023-08-22 22:20:49,592] Trial 86 finished with value: 0.8186580645161291 and parameters: {'rf_max_depth': 12, 'rf_n_estimators': 47, 'rf_min_samples_split': 9}. Best is trial 41 with value: 0.8315096774193549.\n",
      "[I 2023-08-22 22:20:51,957] Trial 87 finished with value: 0.8250709677419354 and parameters: {'rf_max_depth': 6, 'rf_n_estimators': 38, 'rf_min_samples_split': 8}. Best is trial 41 with value: 0.8315096774193549.\n",
      "[I 2023-08-22 22:20:53,405] Trial 88 finished with value: 0.8186451612903227 and parameters: {'rf_max_depth': 53, 'rf_n_estimators': 41, 'rf_min_samples_split': 10}. Best is trial 41 with value: 0.8315096774193549.\n",
      "[I 2023-08-22 22:20:54,753] Trial 89 finished with value: 0.8186709677419355 and parameters: {'rf_max_depth': 11, 'rf_n_estimators': 47, 'rf_min_samples_split': 9}. Best is trial 41 with value: 0.8315096774193549.\n",
      "[I 2023-08-22 22:20:56,646] Trial 90 finished with value: 0.8154580645161291 and parameters: {'rf_max_depth': 8, 'rf_n_estimators': 39, 'rf_min_samples_split': 8}. Best is trial 41 with value: 0.8315096774193549.\n",
      "[I 2023-08-22 22:20:57,791] Trial 91 finished with value: 0.8250838709677419 and parameters: {'rf_max_depth': 6, 'rf_n_estimators': 40, 'rf_min_samples_split': 9}. Best is trial 41 with value: 0.8315096774193549.\n",
      "[I 2023-08-22 22:20:58,707] Trial 92 finished with value: 0.8218322580645163 and parameters: {'rf_max_depth': 5, 'rf_n_estimators': 42, 'rf_min_samples_split': 9}. Best is trial 41 with value: 0.8315096774193549.\n",
      "[I 2023-08-22 22:20:59,557] Trial 93 finished with value: 0.7721548387096775 and parameters: {'rf_max_depth': 3, 'rf_n_estimators': 44, 'rf_min_samples_split': 9}. Best is trial 41 with value: 0.8315096774193549.\n",
      "[I 2023-08-22 22:21:00,388] Trial 94 finished with value: 0.8298709677419355 and parameters: {'rf_max_depth': 7, 'rf_n_estimators': 44, 'rf_min_samples_split': 9}. Best is trial 41 with value: 0.8315096774193549.\n",
      "[I 2023-08-22 22:21:01,873] Trial 95 finished with value: 0.8250838709677419 and parameters: {'rf_max_depth': 9, 'rf_n_estimators': 45, 'rf_min_samples_split': 9}. Best is trial 41 with value: 0.8315096774193549.\n",
      "[I 2023-08-22 22:21:03,658] Trial 96 finished with value: 0.8138451612903225 and parameters: {'rf_max_depth': 13, 'rf_n_estimators': 47, 'rf_min_samples_split': 6}. Best is trial 41 with value: 0.8315096774193549.\n",
      "[I 2023-08-22 22:21:05,079] Trial 97 finished with value: 0.8218451612903227 and parameters: {'rf_max_depth': 10, 'rf_n_estimators': 43, 'rf_min_samples_split': 10}. Best is trial 41 with value: 0.8315096774193549.\n",
      "[I 2023-08-22 22:21:06,874] Trial 98 finished with value: 0.8154193548387096 and parameters: {'rf_max_depth': 7, 'rf_n_estimators': 45, 'rf_min_samples_split': 8}. Best is trial 41 with value: 0.8315096774193549.\n",
      "[I 2023-08-22 22:21:07,874] Trial 99 finished with value: 0.7657161290322582 and parameters: {'rf_max_depth': 3, 'rf_n_estimators': 49, 'rf_min_samples_split': 9}. Best is trial 41 with value: 0.8315096774193549.\n"
     ]
    },
    {
     "name": "stdout",
     "output_type": "stream",
     "text": [
      "Best Score:  0.8315096774193549\n",
      "Best Params: \n",
      "  rf_max_depth: 10\n",
      "  rf_n_estimators: 47\n",
      "  rf_min_samples_split: 9\n"
     ]
    }
   ],
   "source": [
    "# Configurando o nível de log do Optuna para suprimir saída detalhada\n",
    "# optuna.logging.set_verbosity(optuna.logging.WARNING)\n",
    "\n",
    "# Definindo a função objetivo para otimização\n",
    "def objective(trial):\n",
    "\n",
    "    # Parâmetros e faixa de valores a serem testados\n",
    "    max_depth = trial.suggest_int(\"rf_max_depth\", 2, 64)\n",
    "    n_estimators = trial.suggest_int(\"rf_n_estimators\", 2, 50)\n",
    "    min_samples_split = trial.suggest_int(\"rf_min_samples_split\", 2, 10)\n",
    "      \n",
    "    # Cria um modelo com os hiperparâmetros sugeridos\n",
    "    rf_model = RandomForestClassifier(\n",
    "        max_depth=max_depth,\n",
    "        min_samples_split=min_samples_split,\n",
    "        n_estimators=n_estimators,\n",
    "        n_jobs=-1,\n",
    "        random_state=42)\n",
    "    \n",
    "    # Calcula a pontuação média usando validação cruzada\n",
    "    score = cross_val_score(rf_model, X3_treino, y_treino, cv=5, scoring='accuracy').mean()   \n",
    "    return score\n",
    "\n",
    "# Cria uma instância de estudo do Optuna para maximização\n",
    "study = optuna.create_study(direction=\"maximize\")\n",
    "\n",
    "# Realiza a otimização da função objetivo com 100 iterações de teste\n",
    "study.optimize(objective, n_trials=100)\n",
    "\n",
    "# Obtém a melhor tentativa após a otimização\n",
    "trial = study.best_trial\n",
    "\n",
    "# Imprime a melhor pontuação encontrada\n",
    "print(\"Best Score: \", trial.value)\n",
    "\n",
    "# Imprime os hiperparâmetros correspondentes à melhor pontuação\n",
    "print(\"Best Params: \")\n",
    "for key, value in trial.params.items():\n",
    "    print(\"  {}: {}\".format(key, value))\n"
   ]
  },
  {
   "cell_type": "markdown",
   "metadata": {},
   "source": [
    "## XGBoost"
   ]
  },
  {
   "cell_type": "code",
   "execution_count": 133,
   "metadata": {},
   "outputs": [
    {
     "name": "stderr",
     "output_type": "stream",
     "text": [
      "[I 2023-08-22 22:47:40,024] A new study created in memory with name: no-name-daedb577-e2c3-41b7-87ea-a5efdf8d55f6\n"
     ]
    },
    {
     "name": "stderr",
     "output_type": "stream",
     "text": [
      "[I 2023-08-22 22:47:40,676] Trial 0 finished with value: 0.785058064516129 and parameters: {'xgb_eta': 0.49457660742710696, 'xgb_max_depth': 11, 'xgb_subsample': 0.16048426259771265}. Best is trial 0 with value: 0.785058064516129.\n",
      "[I 2023-08-22 22:47:42,115] Trial 1 finished with value: 0.7977806451612903 and parameters: {'xgb_eta': 0.26578944982710423, 'xgb_max_depth': 17, 'xgb_subsample': 0.6438184494245921}. Best is trial 1 with value: 0.7977806451612903.\n",
      "[I 2023-08-22 22:47:43,442] Trial 2 finished with value: 0.8154064516129033 and parameters: {'xgb_eta': 0.1324514971188056, 'xgb_max_depth': 6, 'xgb_subsample': 0.5676577043712346}. Best is trial 2 with value: 0.8154064516129033.\n",
      "[I 2023-08-22 22:47:44,243] Trial 3 finished with value: 0.8057935483870968 and parameters: {'xgb_eta': 0.4229264201055834, 'xgb_max_depth': 9, 'xgb_subsample': 0.8703506770733256}. Best is trial 2 with value: 0.8154064516129033.\n",
      "[I 2023-08-22 22:47:44,962] Trial 4 finished with value: 0.7993419354838711 and parameters: {'xgb_eta': 0.4760221927138143, 'xgb_max_depth': 12, 'xgb_subsample': 0.8387436471880744}. Best is trial 2 with value: 0.8154064516129033.\n",
      "[I 2023-08-22 22:47:45,950] Trial 5 finished with value: 0.7993935483870968 and parameters: {'xgb_eta': 0.24258844816383268, 'xgb_max_depth': 8, 'xgb_subsample': 0.14972825284579316}. Best is trial 2 with value: 0.8154064516129033.\n",
      "[I 2023-08-22 22:47:46,868] Trial 6 finished with value: 0.7962064516129033 and parameters: {'xgb_eta': 0.8379239641769243, 'xgb_max_depth': 18, 'xgb_subsample': 0.9299290818619991}. Best is trial 2 with value: 0.8154064516129033.\n",
      "[I 2023-08-22 22:47:48,452] Trial 7 finished with value: 0.7833032258064516 and parameters: {'xgb_eta': 0.533409357798236, 'xgb_max_depth': 14, 'xgb_subsample': 0.2970469665233074}. Best is trial 2 with value: 0.8154064516129033.\n",
      "[I 2023-08-22 22:47:48,880] Trial 8 finished with value: 0.6292129032258064 and parameters: {'xgb_eta': 0.5640128993512952, 'xgb_max_depth': 12, 'xgb_subsample': 0.0035168227907639293}. Best is trial 2 with value: 0.8154064516129033.\n",
      "[I 2023-08-22 22:47:49,455] Trial 9 finished with value: 0.8122064516129033 and parameters: {'xgb_eta': 0.18383817852842604, 'xgb_max_depth': 5, 'xgb_subsample': 0.7820426774474765}. Best is trial 2 with value: 0.8154064516129033.\n",
      "[I 2023-08-22 22:47:49,999] Trial 10 finished with value: 0.8154322580645162 and parameters: {'xgb_eta': 0.09477194507762632, 'xgb_max_depth': 2, 'xgb_subsample': 0.5317677668851979}. Best is trial 10 with value: 0.8154322580645162.\n",
      "[I 2023-08-22 22:47:50,517] Trial 11 finished with value: 0.8170451612903227 and parameters: {'xgb_eta': 0.0729768870276706, 'xgb_max_depth': 2, 'xgb_subsample': 0.5090026216116943}. Best is trial 11 with value: 0.8170451612903227.\n",
      "[I 2023-08-22 22:47:51,108] Trial 12 finished with value: 0.7769290322580645 and parameters: {'xgb_eta': 0.001892565097007512, 'xgb_max_depth': 2, 'xgb_subsample': 0.44478727949611685}. Best is trial 11 with value: 0.8170451612903227.\n",
      "[I 2023-08-22 22:47:51,768] Trial 13 finished with value: 0.7721290322580645 and parameters: {'xgb_eta': 0.002994336108709028, 'xgb_max_depth': 2, 'xgb_subsample': 0.47327706742001896}. Best is trial 11 with value: 0.8170451612903227.\n",
      "[I 2023-08-22 22:47:52,351] Trial 14 finished with value: 0.8186064516129032 and parameters: {'xgb_eta': 0.11597256948882595, 'xgb_max_depth': 4, 'xgb_subsample': 0.6554490957691618}. Best is trial 14 with value: 0.8186064516129032.\n",
      "[I 2023-08-22 22:47:53,052] Trial 15 finished with value: 0.8057548387096775 and parameters: {'xgb_eta': 0.314031922084299, 'xgb_max_depth': 5, 'xgb_subsample': 0.7136293379768174}. Best is trial 14 with value: 0.8186064516129032.\n",
      "[I 2023-08-22 22:47:53,567] Trial 16 finished with value: 0.8218322580645163 and parameters: {'xgb_eta': 0.09339531109631208, 'xgb_max_depth': 4, 'xgb_subsample': 0.6816011648670551}. Best is trial 16 with value: 0.8218322580645163.\n",
      "[I 2023-08-22 22:47:54,219] Trial 17 finished with value: 0.7977935483870968 and parameters: {'xgb_eta': 0.17935657810293126, 'xgb_max_depth': 7, 'xgb_subsample': 0.7085045525199063}. Best is trial 16 with value: 0.8218322580645163.\n",
      "[I 2023-08-22 22:47:54,832] Trial 18 finished with value: 0.8138193548387098 and parameters: {'xgb_eta': 0.36329989813544084, 'xgb_max_depth': 4, 'xgb_subsample': 0.9644957155543372}. Best is trial 16 with value: 0.8218322580645163.\n",
      "[I 2023-08-22 22:47:55,789] Trial 19 finished with value: 0.8009806451612904 and parameters: {'xgb_eta': 0.21654463719456474, 'xgb_max_depth': 9, 'xgb_subsample': 0.6612947292988121}. Best is trial 16 with value: 0.8218322580645163.\n",
      "[I 2023-08-22 22:47:56,424] Trial 20 finished with value: 0.8234064516129033 and parameters: {'xgb_eta': 0.09427720136423573, 'xgb_max_depth': 4, 'xgb_subsample': 0.9968351634926741}. Best is trial 20 with value: 0.8234064516129033.\n",
      "[I 2023-08-22 22:47:57,357] Trial 21 finished with value: 0.8154322580645162 and parameters: {'xgb_eta': 0.10110360496077887, 'xgb_max_depth': 4, 'xgb_subsample': 0.9740145388434657}. Best is trial 20 with value: 0.8234064516129033.\n",
      "[I 2023-08-22 22:47:58,501] Trial 22 finished with value: 0.8057677419354838 and parameters: {'xgb_eta': 0.1528241063103457, 'xgb_max_depth': 4, 'xgb_subsample': 0.8011070347444026}. Best is trial 20 with value: 0.8234064516129033.\n",
      "[I 2023-08-22 22:48:01,767] Trial 23 finished with value: 0.8202451612903227 and parameters: {'xgb_eta': 0.05432511639231299, 'xgb_max_depth': 7, 'xgb_subsample': 0.8565176190635343}. Best is trial 20 with value: 0.8234064516129033.\n",
      "[I 2023-08-22 22:48:02,719] Trial 24 finished with value: 0.8170322580645161 and parameters: {'xgb_eta': 0.041011675960158096, 'xgb_max_depth': 7, 'xgb_subsample': 0.9006546436547275}. Best is trial 20 with value: 0.8234064516129033.\n",
      "[I 2023-08-22 22:48:04,036] Trial 25 finished with value: 0.8154193548387096 and parameters: {'xgb_eta': 0.04648194963349677, 'xgb_max_depth': 6, 'xgb_subsample': 0.9712624165984305}. Best is trial 20 with value: 0.8234064516129033.\n",
      "[I 2023-08-22 22:48:05,224] Trial 26 finished with value: 0.8073806451612905 and parameters: {'xgb_eta': 0.17251160766402615, 'xgb_max_depth': 10, 'xgb_subsample': 0.8575320932175451}. Best is trial 20 with value: 0.8234064516129033.\n",
      "[I 2023-08-22 22:48:06,082] Trial 27 finished with value: 0.8041935483870969 and parameters: {'xgb_eta': 0.25635337111583034, 'xgb_max_depth': 7, 'xgb_subsample': 0.9928604283968304}. Best is trial 20 with value: 0.8234064516129033.\n",
      "[I 2023-08-22 22:48:07,101] Trial 28 finished with value: 0.8106064516129032 and parameters: {'xgb_eta': 0.05602465866170515, 'xgb_max_depth': 15, 'xgb_subsample': 0.7828693667571301}. Best is trial 20 with value: 0.8234064516129033.\n",
      "[I 2023-08-22 22:48:08,325] Trial 29 finished with value: 0.8089935483870969 and parameters: {'xgb_eta': 0.12927228750116082, 'xgb_max_depth': 20, 'xgb_subsample': 0.9078128395585083}. Best is trial 20 with value: 0.8234064516129033.\n",
      "[I 2023-08-22 22:48:09,454] Trial 30 finished with value: 0.8122451612903226 and parameters: {'xgb_eta': 0.006380885386226179, 'xgb_max_depth': 11, 'xgb_subsample': 0.8222519069606471}. Best is trial 20 with value: 0.8234064516129033.\n",
      "[I 2023-08-22 22:48:10,187] Trial 31 finished with value: 0.8202451612903227 and parameters: {'xgb_eta': 0.09034364866719821, 'xgb_max_depth': 4, 'xgb_subsample': 0.7451531108780053}. Best is trial 20 with value: 0.8234064516129033.\n",
      "[I 2023-08-22 22:48:10,921] Trial 32 finished with value: 0.8234451612903226 and parameters: {'xgb_eta': 0.07691709752435087, 'xgb_max_depth': 3, 'xgb_subsample': 0.7539671277205459}. Best is trial 32 with value: 0.8234451612903226.\n",
      "[I 2023-08-22 22:48:11,591] Trial 33 finished with value: 0.8186322580645162 and parameters: {'xgb_eta': 0.17946344694703195, 'xgb_max_depth': 3, 'xgb_subsample': 0.885342490850413}. Best is trial 32 with value: 0.8234451612903226.\n",
      "[I 2023-08-22 22:48:12,601] Trial 34 finished with value: 0.8106322580645162 and parameters: {'xgb_eta': 0.13078141584528194, 'xgb_max_depth': 6, 'xgb_subsample': 0.6256204747668571}. Best is trial 32 with value: 0.8234451612903226.\n",
      "[I 2023-08-22 22:48:13,407] Trial 35 finished with value: 0.8170451612903227 and parameters: {'xgb_eta': 0.06341625459174552, 'xgb_max_depth': 5, 'xgb_subsample': 0.8503050463905907}. Best is trial 32 with value: 0.8234451612903226.\n",
      "[I 2023-08-22 22:48:14,002] Trial 36 finished with value: 0.8074064516129033 and parameters: {'xgb_eta': 0.21856312385318724, 'xgb_max_depth': 3, 'xgb_subsample': 0.7508934225504205}. Best is trial 32 with value: 0.8234451612903226.\n",
      "[I 2023-08-22 22:48:14,851] Trial 37 finished with value: 0.799367741935484 and parameters: {'xgb_eta': 0.2969328597238926, 'xgb_max_depth': 8, 'xgb_subsample': 0.8340961500312987}. Best is trial 32 with value: 0.8234451612903226.\n",
      "[I 2023-08-22 22:48:15,773] Trial 38 finished with value: 0.8154451612903226 and parameters: {'xgb_eta': 0.13854658184202073, 'xgb_max_depth': 6, 'xgb_subsample': 0.593539597216485}. Best is trial 32 with value: 0.8234451612903226.\n",
      "[I 2023-08-22 22:48:16,696] Trial 39 finished with value: 0.8057677419354838 and parameters: {'xgb_eta': 0.22584679347276945, 'xgb_max_depth': 8, 'xgb_subsample': 0.9316958410382323}. Best is trial 32 with value: 0.8234451612903226.\n",
      "[I 2023-08-22 22:48:17,252] Trial 40 finished with value: 0.8170193548387097 and parameters: {'xgb_eta': 0.08759674239055554, 'xgb_max_depth': 3, 'xgb_subsample': 0.99870415806472}. Best is trial 32 with value: 0.8234451612903226.\n",
      "[I 2023-08-22 22:48:18,040] Trial 41 finished with value: 0.8154451612903226 and parameters: {'xgb_eta': 0.09919935896832205, 'xgb_max_depth': 5, 'xgb_subsample': 0.7330296530406462}. Best is trial 32 with value: 0.8234451612903226.\n",
      "[I 2023-08-22 22:48:18,813] Trial 42 finished with value: 0.8250322580645163 and parameters: {'xgb_eta': 0.037950186265128825, 'xgb_max_depth': 3, 'xgb_subsample': 0.7600115083491344}. Best is trial 42 with value: 0.8250322580645163.\n",
      "[I 2023-08-22 22:48:19,507] Trial 43 finished with value: 0.8250322580645163 and parameters: {'xgb_eta': 0.0448005399322562, 'xgb_max_depth': 3, 'xgb_subsample': 0.8021485524977484}. Best is trial 42 with value: 0.8250322580645163.\n",
      "[I 2023-08-22 22:48:20,224] Trial 44 finished with value: 0.8202193548387097 and parameters: {'xgb_eta': 0.03928240915983505, 'xgb_max_depth': 3, 'xgb_subsample': 0.682154753711466}. Best is trial 42 with value: 0.8250322580645163.\n",
      "[I 2023-08-22 22:48:20,752] Trial 45 finished with value: 0.7785290322580646 and parameters: {'xgb_eta': 0.006112178872094996, 'xgb_max_depth': 2, 'xgb_subsample': 0.7869605998524708}. Best is trial 42 with value: 0.8250322580645163.\n",
      "[I 2023-08-22 22:48:21,309] Trial 46 finished with value: 0.8137935483870968 and parameters: {'xgb_eta': 0.14717666638839727, 'xgb_max_depth': 3, 'xgb_subsample': 0.6223792350555066}. Best is trial 42 with value: 0.8250322580645163.\n",
      "[I 2023-08-22 22:48:22,440] Trial 47 finished with value: 0.8202451612903227 and parameters: {'xgb_eta': 0.19935181517411676, 'xgb_max_depth': 5, 'xgb_subsample': 0.7010614098860245}. Best is trial 42 with value: 0.8250322580645163.\n",
      "[I 2023-08-22 22:48:24,673] Trial 48 finished with value: 0.8154322580645162 and parameters: {'xgb_eta': 0.11532438190954825, 'xgb_max_depth': 13, 'xgb_subsample': 0.7586623040430822}. Best is trial 42 with value: 0.8250322580645163.\n",
      "[I 2023-08-22 22:48:25,485] Trial 49 finished with value: 0.8186451612903227 and parameters: {'xgb_eta': 0.16703970048495692, 'xgb_max_depth': 2, 'xgb_subsample': 0.8224500005047408}. Best is trial 42 with value: 0.8250322580645163.\n",
      "[I 2023-08-22 22:48:26,175] Trial 50 finished with value: 0.8202451612903227 and parameters: {'xgb_eta': 0.08487866408319204, 'xgb_max_depth': 3, 'xgb_subsample': 0.9304403343918836}. Best is trial 42 with value: 0.8250322580645163.\n",
      "[I 2023-08-22 22:48:28,942] Trial 51 finished with value: 0.8218709677419355 and parameters: {'xgb_eta': 0.03976083642891649, 'xgb_max_depth': 4, 'xgb_subsample': 0.8871655337755814}. Best is trial 42 with value: 0.8250322580645163.\n",
      "[I 2023-08-22 22:48:31,118] Trial 52 finished with value: 0.8250709677419354 and parameters: {'xgb_eta': 0.03905762415432864, 'xgb_max_depth': 4, 'xgb_subsample': 0.8790206020387852}. Best is trial 52 with value: 0.8250709677419354.\n",
      "[I 2023-08-22 22:48:36,036] Trial 53 finished with value: 0.8041677419354839 and parameters: {'xgb_eta': 0.026705978734463218, 'xgb_max_depth': 2, 'xgb_subsample': 0.8944216068038333}. Best is trial 52 with value: 0.8250709677419354.\n",
      "[I 2023-08-22 22:48:37,054] Trial 54 finished with value: 0.8122322580645163 and parameters: {'xgb_eta': 0.035071355333221504, 'xgb_max_depth': 5, 'xgb_subsample': 0.8756338535121722}. Best is trial 52 with value: 0.8250709677419354.\n",
      "[I 2023-08-22 22:48:37,936] Trial 55 finished with value: 0.8025548387096775 and parameters: {'xgb_eta': 0.0014369524405171905, 'xgb_max_depth': 4, 'xgb_subsample': 0.9328762072542145}. Best is trial 52 with value: 0.8250709677419354.\n",
      "[I 2023-08-22 22:48:40,034] Trial 56 finished with value: 0.8186451612903227 and parameters: {'xgb_eta': 0.06619467528887069, 'xgb_max_depth': 6, 'xgb_subsample': 0.8062982458943048}. Best is trial 52 with value: 0.8250709677419354.\n",
      "[I 2023-08-22 22:48:41,623] Trial 57 finished with value: 0.8234580645161291 and parameters: {'xgb_eta': 0.0644811418192358, 'xgb_max_depth': 3, 'xgb_subsample': 0.8545323385667847}. Best is trial 52 with value: 0.8250709677419354.\n",
      "[I 2023-08-22 22:48:42,267] Trial 58 finished with value: 0.8153935483870969 and parameters: {'xgb_eta': 0.12294617070746171, 'xgb_max_depth': 3, 'xgb_subsample': 0.9481081452803097}. Best is trial 52 with value: 0.8250709677419354.\n",
      "[I 2023-08-22 22:48:42,937] Trial 59 finished with value: 0.8234322580645163 and parameters: {'xgb_eta': 0.08083639502435638, 'xgb_max_depth': 2, 'xgb_subsample': 0.7729814786360467}. Best is trial 52 with value: 0.8250709677419354.\n",
      "[I 2023-08-22 22:48:43,682] Trial 60 finished with value: 0.8314580645161291 and parameters: {'xgb_eta': 0.07840454913964941, 'xgb_max_depth': 2, 'xgb_subsample': 0.7690182569038844}. Best is trial 60 with value: 0.8314580645161291.\n",
      "[I 2023-08-22 22:48:44,612] Trial 61 finished with value: 0.8266451612903225 and parameters: {'xgb_eta': 0.1458459240363551, 'xgb_max_depth': 2, 'xgb_subsample': 0.7754747768471949}. Best is trial 60 with value: 0.8314580645161291.\n",
      "[I 2023-08-22 22:48:45,318] Trial 62 finished with value: 0.8202322580645163 and parameters: {'xgb_eta': 0.06441363351025618, 'xgb_max_depth': 2, 'xgb_subsample': 0.7268488556750594}. Best is trial 60 with value: 0.8314580645161291.\n",
      "[I 2023-08-22 22:48:46,007] Trial 63 finished with value: 0.8121677419354839 and parameters: {'xgb_eta': 0.15502926828698793, 'xgb_max_depth': 3, 'xgb_subsample': 0.8278900549461107}. Best is trial 60 with value: 0.8314580645161291.\n",
      "[I 2023-08-22 22:48:46,757] Trial 64 finished with value: 0.7849290322580645 and parameters: {'xgb_eta': 0.01924119754735605, 'xgb_max_depth': 2, 'xgb_subsample': 0.7864549387248121}. Best is trial 60 with value: 0.8314580645161291.\n",
      "[I 2023-08-22 22:48:48,688] Trial 65 finished with value: 0.8074322580645162 and parameters: {'xgb_eta': 0.11115987149518723, 'xgb_max_depth': 16, 'xgb_subsample': 0.7106236907165457}. Best is trial 60 with value: 0.8314580645161291.\n",
      "[I 2023-08-22 22:48:49,303] Trial 66 finished with value: 0.8202193548387099 and parameters: {'xgb_eta': 0.03501568696659624, 'xgb_max_depth': 3, 'xgb_subsample': 0.8590588753904985}. Best is trial 60 with value: 0.8314580645161291.\n",
      "[I 2023-08-22 22:48:51,720] Trial 67 finished with value: 0.8137935483870967 and parameters: {'xgb_eta': 0.0681977870342786, 'xgb_max_depth': 4, 'xgb_subsample': 0.7613152564003631}. Best is trial 60 with value: 0.8314580645161291.\n",
      "[I 2023-08-22 22:48:55,449] Trial 68 finished with value: 0.8186322580645162 and parameters: {'xgb_eta': 0.1954438819353485, 'xgb_max_depth': 5, 'xgb_subsample': 0.6820280697648398}. Best is trial 60 with value: 0.8314580645161291.\n",
      "[I 2023-08-22 22:48:58,035] Trial 69 finished with value: 0.8234580645161291 and parameters: {'xgb_eta': 0.1400078612223602, 'xgb_max_depth': 2, 'xgb_subsample': 0.8271545023178725}. Best is trial 60 with value: 0.8314580645161291.\n",
      "[I 2023-08-22 22:48:58,754] Trial 70 finished with value: 0.8314580645161291 and parameters: {'xgb_eta': 0.15030578355504512, 'xgb_max_depth': 2, 'xgb_subsample': 0.8091665431512614}. Best is trial 60 with value: 0.8314580645161291.\n",
      "[I 2023-08-22 22:49:00,287] Trial 71 finished with value: 0.8282451612903227 and parameters: {'xgb_eta': 0.15247376767226967, 'xgb_max_depth': 2, 'xgb_subsample': 0.8067867841688713}. Best is trial 60 with value: 0.8314580645161291.\n",
      "[I 2023-08-22 22:49:00,897] Trial 72 finished with value: 0.8186580645161291 and parameters: {'xgb_eta': 0.11429564782483323, 'xgb_max_depth': 2, 'xgb_subsample': 0.8072834461219086}. Best is trial 60 with value: 0.8314580645161291.\n",
      "[I 2023-08-22 22:49:01,738] Trial 73 finished with value: 0.8121806451612905 and parameters: {'xgb_eta': 0.16365111761673107, 'xgb_max_depth': 4, 'xgb_subsample': 0.8651824287077468}. Best is trial 60 with value: 0.8314580645161291.\n",
      "[I 2023-08-22 22:49:02,724] Trial 74 finished with value: 0.8106064516129032 and parameters: {'xgb_eta': 0.23207864577834378, 'xgb_max_depth': 3, 'xgb_subsample': 0.7938152378507887}. Best is trial 60 with value: 0.8314580645161291.\n",
      "[I 2023-08-22 22:49:06,123] Trial 75 finished with value: 0.8266322580645162 and parameters: {'xgb_eta': 0.20286058432904308, 'xgb_max_depth': 2, 'xgb_subsample': 0.8460329425236172}. Best is trial 60 with value: 0.8314580645161291.\n",
      "[I 2023-08-22 22:49:08,186] Trial 76 finished with value: 0.8250580645161291 and parameters: {'xgb_eta': 0.19634615919891885, 'xgb_max_depth': 2, 'xgb_subsample': 0.7251225836764525}. Best is trial 60 with value: 0.8314580645161291.\n",
      "[I 2023-08-22 22:49:09,897] Trial 77 finished with value: 0.8218193548387098 and parameters: {'xgb_eta': 0.2534483379690301, 'xgb_max_depth': 2, 'xgb_subsample': 0.7412503080481826}. Best is trial 60 with value: 0.8314580645161291.\n",
      "[I 2023-08-22 22:49:13,469] Trial 78 finished with value: 0.8234322580645161 and parameters: {'xgb_eta': 0.2003061981274959, 'xgb_max_depth': 2, 'xgb_subsample': 0.7768161371307785}. Best is trial 60 with value: 0.8314580645161291.\n",
      "[I 2023-08-22 22:49:14,040] Trial 79 finished with value: 0.8089806451612904 and parameters: {'xgb_eta': 0.2843726175165941, 'xgb_max_depth': 2, 'xgb_subsample': 0.8387075177986205}. Best is trial 60 with value: 0.8314580645161291.\n",
      "[I 2023-08-22 22:49:14,719] Trial 80 finished with value: 0.8186322580645162 and parameters: {'xgb_eta': 0.165965095070702, 'xgb_max_depth': 4, 'xgb_subsample': 0.7301808765858081}. Best is trial 60 with value: 0.8314580645161291.\n",
      "[I 2023-08-22 22:49:15,421] Trial 81 finished with value: 0.8170193548387097 and parameters: {'xgb_eta': 0.13145317643320337, 'xgb_max_depth': 3, 'xgb_subsample': 0.904196929287387}. Best is trial 60 with value: 0.8314580645161291.\n",
      "[I 2023-08-22 22:49:16,002] Trial 82 finished with value: 0.8282709677419356 and parameters: {'xgb_eta': 0.1859152118636404, 'xgb_max_depth': 2, 'xgb_subsample': 0.7678444168672982}. Best is trial 60 with value: 0.8314580645161291.\n",
      "[I 2023-08-22 22:49:16,563] Trial 83 finished with value: 0.8250451612903227 and parameters: {'xgb_eta': 0.19125570156976682, 'xgb_max_depth': 2, 'xgb_subsample': 0.7656327552641035}. Best is trial 60 with value: 0.8314580645161291.\n",
      "[I 2023-08-22 22:49:17,049] Trial 84 finished with value: 0.8250451612903227 and parameters: {'xgb_eta': 0.1857872783663211, 'xgb_max_depth': 2, 'xgb_subsample': 0.7056169045505466}. Best is trial 60 with value: 0.8314580645161291.\n",
      "[I 2023-08-22 22:49:17,571] Trial 85 finished with value: 0.8154064516129033 and parameters: {'xgb_eta': 0.24207658266413418, 'xgb_max_depth': 2, 'xgb_subsample': 0.6621051138773427}. Best is trial 60 with value: 0.8314580645161291.\n",
      "[I 2023-08-22 22:49:18,086] Trial 86 finished with value: 0.8298322580645161 and parameters: {'xgb_eta': 0.21089669011554624, 'xgb_max_depth': 2, 'xgb_subsample': 0.8174356239681023}. Best is trial 60 with value: 0.8314580645161291.\n",
      "[I 2023-08-22 22:49:18,762] Trial 87 finished with value: 0.8186322580645162 and parameters: {'xgb_eta': 0.273538053197678, 'xgb_max_depth': 4, 'xgb_subsample': 0.8464943410511073}. Best is trial 60 with value: 0.8314580645161291.\n",
      "[I 2023-08-22 22:49:20,060] Trial 88 finished with value: 0.8057806451612904 and parameters: {'xgb_eta': 0.2310360824674564, 'xgb_max_depth': 10, 'xgb_subsample': 0.805499395241615}. Best is trial 60 with value: 0.8314580645161291.\n",
      "[I 2023-08-22 22:49:21,148] Trial 89 finished with value: 0.8106064516129032 and parameters: {'xgb_eta': 0.21173197724647733, 'xgb_max_depth': 3, 'xgb_subsample': 0.8772933976351925}. Best is trial 60 with value: 0.8314580645161291.\n",
      "[I 2023-08-22 22:49:21,839] Trial 90 finished with value: 0.8202451612903227 and parameters: {'xgb_eta': 0.1564511081686692, 'xgb_max_depth': 2, 'xgb_subsample': 0.9040801929025545}. Best is trial 60 with value: 0.8314580645161291.\n",
      "[I 2023-08-22 22:49:22,751] Trial 91 finished with value: 0.7993548387096775 and parameters: {'xgb_eta': 0.21079967177165104, 'xgb_max_depth': 19, 'xgb_subsample': 0.774493058199919}. Best is trial 60 with value: 0.8314580645161291.\n",
      "[I 2023-08-22 22:49:29,261] Trial 92 finished with value: 0.8121935483870969 and parameters: {'xgb_eta': 0.26356173642369357, 'xgb_max_depth': 2, 'xgb_subsample': 0.8269592705377522}. Best is trial 60 with value: 0.8314580645161291.\n",
      "[I 2023-08-22 22:49:30,003] Trial 93 finished with value: 0.8234322580645161 and parameters: {'xgb_eta': 0.1978473505398279, 'xgb_max_depth': 2, 'xgb_subsample': 0.7321552317521065}. Best is trial 60 with value: 0.8314580645161291.\n",
      "[I 2023-08-22 22:49:30,699] Trial 94 finished with value: 0.8218322580645163 and parameters: {'xgb_eta': 0.14238645015314694, 'xgb_max_depth': 3, 'xgb_subsample': 0.758648015009824}. Best is trial 60 with value: 0.8314580645161291.\n",
      "[I 2023-08-22 22:49:31,314] Trial 95 finished with value: 0.8298451612903227 and parameters: {'xgb_eta': 0.17784528930265692, 'xgb_max_depth': 2, 'xgb_subsample': 0.8101882449591812}. Best is trial 60 with value: 0.8314580645161291.\n",
      "[I 2023-08-22 22:49:32,088] Trial 96 finished with value: 0.8202322580645163 and parameters: {'xgb_eta': 0.17186570522626524, 'xgb_max_depth': 4, 'xgb_subsample': 0.8066751354016475}. Best is trial 60 with value: 0.8314580645161291.\n",
      "[I 2023-08-22 22:49:33,754] Trial 97 finished with value: 0.8186193548387098 and parameters: {'xgb_eta': 0.10088736754119443, 'xgb_max_depth': 3, 'xgb_subsample': 0.8457322762760506}. Best is trial 60 with value: 0.8314580645161291.\n",
      "[I 2023-08-22 22:49:34,852] Trial 98 finished with value: 0.8057677419354838 and parameters: {'xgb_eta': 0.12768356101420858, 'xgb_max_depth': 12, 'xgb_subsample': 0.8728897047935684}. Best is trial 60 with value: 0.8314580645161291.\n",
      "[I 2023-08-22 22:49:35,504] Trial 99 finished with value: 0.8282322580645161 and parameters: {'xgb_eta': 0.2435814188369701, 'xgb_max_depth': 2, 'xgb_subsample': 0.9163683181485386}. Best is trial 60 with value: 0.8314580645161291.\n"
     ]
    },
    {
     "name": "stdout",
     "output_type": "stream",
     "text": [
      "Best Score:  0.8314580645161291\n",
      "Best Params: \n",
      "  xgb_eta: 0.07840454913964941\n",
      "  xgb_max_depth: 2\n",
      "  xgb_subsample: 0.7690182569038844\n"
     ]
    }
   ],
   "source": [
    "# Configurando o nível de log do Optuna para suprimir saída detalhada\n",
    "#optuna.logging.set_verbosity(optuna.logging.WARNING)\n",
    "\n",
    "# Definindo a função objetivo para otimização\n",
    "def objective(trial):\n",
    "\n",
    "    # Parâmetros e faixa de valores a serem testados\n",
    "    #alfa = trial.suggest_int(\"xgb_alfa\", 0, 20)\n",
    "    #top_k = trial.suggest_int(\"xgb_top_k\", 0, 3)\n",
    "    eta = trial.suggest_float(\"xgb_eta\", 0.001, 0.9)\n",
    "    max_depth = trial.suggest_int(\"xgb_max_depth\", 2, 20)\n",
    "    subsample = trial.suggest_float(\"xgb_subsample\", 0, 1)\n",
    "\n",
    "    # Cria um modelo com os hiperparâmetros sugeridos\n",
    "    xgb_model = XGBClassifier(\n",
    "        eta = eta,                  \n",
    "        max_depth = max_depth,\n",
    "        subsample = subsample,\n",
    "        random_state = 42)\n",
    "    \n",
    "    # Calcula a pontuação média usando validação cruzada\n",
    "    score = cross_val_score(xgb_model, X3_treino, y_treino, cv=5, scoring='accuracy').mean()   \n",
    "    return score\n",
    "\n",
    "# Cria uma instância de estudo do Optuna para maximização\n",
    "study = optuna.create_study(direction=\"maximize\")\n",
    "\n",
    "# Realiza a otimização da função objetivo com 100 iterações de teste\n",
    "study.optimize(objective, n_trials=100)\n",
    "\n",
    "# Obtém a melhor tentativa após a otimização\n",
    "trial = study.best_trial\n",
    "\n",
    "# Imprime a melhor pontuação encontrada\n",
    "print(\"Best Score: \", trial.value)\n",
    "\n",
    "# Imprime os hiperparâmetros correspondentes à melhor pontuação\n",
    "print(\"Best Params: \")\n",
    "for key, value in trial.params.items():\n",
    "    print(\"  {}: {}\".format(key, value))\n"
   ]
  },
  {
   "cell_type": "markdown",
   "metadata": {},
   "source": [
    "# 8 - Modelo final"
   ]
  },
  {
   "cell_type": "code",
   "execution_count": 229,
   "metadata": {},
   "outputs": [
    {
     "data": {
      "text/html": [
       "<div>\n",
       "<style scoped>\n",
       "    .dataframe tbody tr th:only-of-type {\n",
       "        vertical-align: middle;\n",
       "    }\n",
       "\n",
       "    .dataframe tbody tr th {\n",
       "        vertical-align: top;\n",
       "    }\n",
       "\n",
       "    .dataframe thead th {\n",
       "        text-align: right;\n",
       "    }\n",
       "</style>\n",
       "<table border=\"1\" class=\"dataframe\">\n",
       "  <thead>\n",
       "    <tr style=\"text-align: right;\">\n",
       "      <th></th>\n",
       "      <th>Modelo</th>\n",
       "      <th>Precision</th>\n",
       "      <th>F1</th>\n",
       "      <th>Accuracy</th>\n",
       "    </tr>\n",
       "  </thead>\n",
       "  <tbody>\n",
       "    <tr>\n",
       "      <th>0</th>\n",
       "      <td>Random Forest 3</td>\n",
       "      <td>0.86</td>\n",
       "      <td>0.77</td>\n",
       "      <td>0.82</td>\n",
       "    </tr>\n",
       "  </tbody>\n",
       "</table>\n",
       "</div>"
      ],
      "text/plain": [
       "            Modelo  Precision   F1  Accuracy\n",
       "0  Random Forest 3       0.86 0.77      0.82"
      ]
     },
     "execution_count": 229,
     "metadata": {},
     "output_type": "execute_result"
    }
   ],
   "source": [
    "# Instanciando o melhor modelo com os melhores parâmetros\n",
    "rf_model = RandomForestClassifier(\n",
    "    max_depth = 10,\n",
    "    min_samples_split = 9,\n",
    "    n_estimators = 47,\n",
    "    n_jobs=-1,\n",
    "    random_state=42)\n",
    "\n",
    "# Treinando o modelo\n",
    "rf_model.fit(X3_treino, y_treino)\n",
    "\n",
    "# Fazendo previsões nos dados de teste com o modelo treinado\n",
    "y_pred_rf = rf_model.predict(X3_teste)\n",
    "\n",
    "# Verificando a performance finalo do modelo\n",
    "metricas_rf = calcula_metricas(\"Random Forest 3\", rf_model, y_teste, y_pred_rf)\n",
    "metricas_rf"
   ]
  },
  {
   "cell_type": "code",
   "execution_count": 230,
   "metadata": {},
   "outputs": [
    {
     "data": {
      "text/html": [
       "<div>\n",
       "<style scoped>\n",
       "    .dataframe tbody tr th:only-of-type {\n",
       "        vertical-align: middle;\n",
       "    }\n",
       "\n",
       "    .dataframe tbody tr th {\n",
       "        vertical-align: top;\n",
       "    }\n",
       "\n",
       "    .dataframe thead th {\n",
       "        text-align: right;\n",
       "    }\n",
       "</style>\n",
       "<table border=\"1\" class=\"dataframe\">\n",
       "  <thead>\n",
       "    <tr style=\"text-align: right;\">\n",
       "      <th></th>\n",
       "      <th>Modelo</th>\n",
       "      <th>Precision</th>\n",
       "      <th>F1</th>\n",
       "      <th>Accuracy</th>\n",
       "    </tr>\n",
       "  </thead>\n",
       "  <tbody>\n",
       "    <tr>\n",
       "      <th>0</th>\n",
       "      <td>XGboost 3</td>\n",
       "      <td>0.87</td>\n",
       "      <td>0.77</td>\n",
       "      <td>0.83</td>\n",
       "    </tr>\n",
       "  </tbody>\n",
       "</table>\n",
       "</div>"
      ],
      "text/plain": [
       "      Modelo  Precision   F1  Accuracy\n",
       "0  XGboost 3       0.87 0.77      0.83"
      ]
     },
     "execution_count": 230,
     "metadata": {},
     "output_type": "execute_result"
    }
   ],
   "source": [
    "# Instanciando o melhor modelo com os melhores parâmetros\n",
    "xgb = XGBClassifier(\n",
    "    eta = 0.0784,\n",
    "    max_depth = 2,\n",
    "    subsample = 0.769,\n",
    "    random_state = 42)\n",
    "\n",
    "# Treinando o modelo\n",
    "xgb.fit(X3_treino, y_treino)\n",
    "\n",
    "# Fazendo previsões nos dados de teste com o modelo treinado\n",
    "y_pred_xgb = xgb.predict(X3_teste)\n",
    "\n",
    "# Verificando a performance finalo do modelo\n",
    "metricas_xgb = calcula_metricas(\"XGboost 3\", xgb, y_teste, y_pred_xgb)\n",
    "metricas_xgb"
   ]
  },
  {
   "cell_type": "markdown",
   "metadata": {},
   "source": [
    "# BANCO KAGGLE"
   ]
  },
  {
   "cell_type": "code",
   "execution_count": 231,
   "metadata": {},
   "outputs": [
    {
     "data": {
      "text/html": [
       "<div>\n",
       "<style scoped>\n",
       "    .dataframe tbody tr th:only-of-type {\n",
       "        vertical-align: middle;\n",
       "    }\n",
       "\n",
       "    .dataframe tbody tr th {\n",
       "        vertical-align: top;\n",
       "    }\n",
       "\n",
       "    .dataframe thead th {\n",
       "        text-align: right;\n",
       "    }\n",
       "</style>\n",
       "<table border=\"1\" class=\"dataframe\">\n",
       "  <thead>\n",
       "    <tr style=\"text-align: right;\">\n",
       "      <th></th>\n",
       "      <th>PassengerId</th>\n",
       "      <th>Pclass</th>\n",
       "      <th>Name</th>\n",
       "      <th>Sex</th>\n",
       "      <th>Age</th>\n",
       "      <th>SibSp</th>\n",
       "      <th>Parch</th>\n",
       "      <th>Ticket</th>\n",
       "      <th>Fare</th>\n",
       "      <th>Cabin</th>\n",
       "      <th>Embarked</th>\n",
       "    </tr>\n",
       "  </thead>\n",
       "  <tbody>\n",
       "    <tr>\n",
       "      <th>0</th>\n",
       "      <td>892</td>\n",
       "      <td>3</td>\n",
       "      <td>Kelly, Mr. James</td>\n",
       "      <td>male</td>\n",
       "      <td>34.50</td>\n",
       "      <td>0</td>\n",
       "      <td>0</td>\n",
       "      <td>330911</td>\n",
       "      <td>7.83</td>\n",
       "      <td>NaN</td>\n",
       "      <td>Q</td>\n",
       "    </tr>\n",
       "    <tr>\n",
       "      <th>1</th>\n",
       "      <td>893</td>\n",
       "      <td>3</td>\n",
       "      <td>Wilkes, Mrs. James (Ellen Needs)</td>\n",
       "      <td>female</td>\n",
       "      <td>47.00</td>\n",
       "      <td>1</td>\n",
       "      <td>0</td>\n",
       "      <td>363272</td>\n",
       "      <td>7.00</td>\n",
       "      <td>NaN</td>\n",
       "      <td>S</td>\n",
       "    </tr>\n",
       "    <tr>\n",
       "      <th>2</th>\n",
       "      <td>894</td>\n",
       "      <td>2</td>\n",
       "      <td>Myles, Mr. Thomas Francis</td>\n",
       "      <td>male</td>\n",
       "      <td>62.00</td>\n",
       "      <td>0</td>\n",
       "      <td>0</td>\n",
       "      <td>240276</td>\n",
       "      <td>9.69</td>\n",
       "      <td>NaN</td>\n",
       "      <td>Q</td>\n",
       "    </tr>\n",
       "    <tr>\n",
       "      <th>3</th>\n",
       "      <td>895</td>\n",
       "      <td>3</td>\n",
       "      <td>Wirz, Mr. Albert</td>\n",
       "      <td>male</td>\n",
       "      <td>27.00</td>\n",
       "      <td>0</td>\n",
       "      <td>0</td>\n",
       "      <td>315154</td>\n",
       "      <td>8.66</td>\n",
       "      <td>NaN</td>\n",
       "      <td>S</td>\n",
       "    </tr>\n",
       "    <tr>\n",
       "      <th>4</th>\n",
       "      <td>896</td>\n",
       "      <td>3</td>\n",
       "      <td>Hirvonen, Mrs. Alexander (Helga E Lindqvist)</td>\n",
       "      <td>female</td>\n",
       "      <td>22.00</td>\n",
       "      <td>1</td>\n",
       "      <td>1</td>\n",
       "      <td>3101298</td>\n",
       "      <td>12.29</td>\n",
       "      <td>NaN</td>\n",
       "      <td>S</td>\n",
       "    </tr>\n",
       "  </tbody>\n",
       "</table>\n",
       "</div>"
      ],
      "text/plain": [
       "   PassengerId  Pclass                                          Name     Sex   Age  SibSp  Parch   Ticket  Fare Cabin Embarked\n",
       "0          892       3                              Kelly, Mr. James    male 34.50      0      0   330911  7.83   NaN        Q\n",
       "1          893       3              Wilkes, Mrs. James (Ellen Needs)  female 47.00      1      0   363272  7.00   NaN        S\n",
       "2          894       2                     Myles, Mr. Thomas Francis    male 62.00      0      0   240276  9.69   NaN        Q\n",
       "3          895       3                              Wirz, Mr. Albert    male 27.00      0      0   315154  8.66   NaN        S\n",
       "4          896       3  Hirvonen, Mrs. Alexander (Helga E Lindqvist)  female 22.00      1      1  3101298 12.29   NaN        S"
      ]
     },
     "execution_count": 231,
     "metadata": {},
     "output_type": "execute_result"
    }
   ],
   "source": [
    "df_kaggle.head()"
   ]
  },
  {
   "cell_type": "code",
   "execution_count": 232,
   "metadata": {},
   "outputs": [],
   "source": [
    "df_kaggle = df_kaggle[['Age', 'Sex', 'Pclass', 'Fare']]"
   ]
  },
  {
   "cell_type": "code",
   "execution_count": 233,
   "metadata": {},
   "outputs": [
    {
     "data": {
      "text/html": [
       "<div>\n",
       "<style scoped>\n",
       "    .dataframe tbody tr th:only-of-type {\n",
       "        vertical-align: middle;\n",
       "    }\n",
       "\n",
       "    .dataframe tbody tr th {\n",
       "        vertical-align: top;\n",
       "    }\n",
       "\n",
       "    .dataframe thead th {\n",
       "        text-align: right;\n",
       "    }\n",
       "</style>\n",
       "<table border=\"1\" class=\"dataframe\">\n",
       "  <thead>\n",
       "    <tr style=\"text-align: right;\">\n",
       "      <th></th>\n",
       "      <th>Age</th>\n",
       "      <th>Sex</th>\n",
       "      <th>Pclass</th>\n",
       "      <th>Fare</th>\n",
       "    </tr>\n",
       "  </thead>\n",
       "  <tbody>\n",
       "    <tr>\n",
       "      <th>0</th>\n",
       "      <td>34.50</td>\n",
       "      <td>male</td>\n",
       "      <td>3</td>\n",
       "      <td>7.83</td>\n",
       "    </tr>\n",
       "    <tr>\n",
       "      <th>1</th>\n",
       "      <td>47.00</td>\n",
       "      <td>female</td>\n",
       "      <td>3</td>\n",
       "      <td>7.00</td>\n",
       "    </tr>\n",
       "    <tr>\n",
       "      <th>2</th>\n",
       "      <td>62.00</td>\n",
       "      <td>male</td>\n",
       "      <td>2</td>\n",
       "      <td>9.69</td>\n",
       "    </tr>\n",
       "    <tr>\n",
       "      <th>3</th>\n",
       "      <td>27.00</td>\n",
       "      <td>male</td>\n",
       "      <td>3</td>\n",
       "      <td>8.66</td>\n",
       "    </tr>\n",
       "    <tr>\n",
       "      <th>4</th>\n",
       "      <td>22.00</td>\n",
       "      <td>female</td>\n",
       "      <td>3</td>\n",
       "      <td>12.29</td>\n",
       "    </tr>\n",
       "  </tbody>\n",
       "</table>\n",
       "</div>"
      ],
      "text/plain": [
       "    Age     Sex  Pclass  Fare\n",
       "0 34.50    male       3  7.83\n",
       "1 47.00  female       3  7.00\n",
       "2 62.00    male       2  9.69\n",
       "3 27.00    male       3  8.66\n",
       "4 22.00  female       3 12.29"
      ]
     },
     "execution_count": 233,
     "metadata": {},
     "output_type": "execute_result"
    }
   ],
   "source": [
    "df_kaggle.head()"
   ]
  },
  {
   "cell_type": "code",
   "execution_count": 234,
   "metadata": {},
   "outputs": [
    {
     "data": {
      "text/plain": [
       "Index(['Age', 'Pclass', 'Fare', 'Age_rec', 'Sex_male', 'Int_Age_Sex',\n",
       "       'Int_Age_Pclass'],\n",
       "      dtype='object')"
      ]
     },
     "execution_count": 234,
     "metadata": {},
     "output_type": "execute_result"
    }
   ],
   "source": [
    "df_kaggle = arrumando_banco( df_kaggle )\n",
    "df_kaggle.columns"
   ]
  },
  {
   "cell_type": "code",
   "execution_count": 235,
   "metadata": {},
   "outputs": [
    {
     "data": {
      "text/plain": [
       "Index(['Pclass', 'Fare', 'Int_Age_Sex'], dtype='object')"
      ]
     },
     "execution_count": 235,
     "metadata": {},
     "output_type": "execute_result"
    }
   ],
   "source": [
    "df_kaggle = df_kaggle [[ 'Pclass', 'Fare', 'Int_Age_Sex' ]]\n",
    "df_kaggle.columns"
   ]
  },
  {
   "cell_type": "code",
   "execution_count": 236,
   "metadata": {},
   "outputs": [
    {
     "data": {
      "text/plain": [
       "Pclass         0\n",
       "Fare           0\n",
       "Int_Age_Sex    0\n",
       "dtype: int64"
      ]
     },
     "execution_count": 236,
     "metadata": {},
     "output_type": "execute_result"
    }
   ],
   "source": [
    "df_kaggle.isna().sum()"
   ]
  },
  {
   "cell_type": "code",
   "execution_count": 237,
   "metadata": {},
   "outputs": [
    {
     "data": {
      "text/plain": [
       "array([0, 0, 0, 0, 1, 0, 1, 0, 1, 0, 0, 0, 1, 0, 1, 1, 0, 0, 0, 0, 0, 0,\n",
       "       1, 0, 1, 0, 1, 0, 0, 0, 0, 0, 1, 0, 1, 0, 0, 0, 0, 0, 0, 0, 0, 1,\n",
       "       1, 0, 0, 0, 1, 1, 1, 0, 1, 1, 0, 0, 0, 0, 0, 1, 0, 0, 0, 1, 0, 1,\n",
       "       0, 0, 0, 1, 1, 0, 0, 0, 1, 0, 0, 1, 0, 1, 1, 0, 0, 0, 0, 0, 1, 0,\n",
       "       1, 1, 0, 0, 1, 0, 0, 0, 1, 0, 0, 0, 1, 0, 0, 0, 0, 0, 0, 0, 0, 0,\n",
       "       0, 1, 1, 1, 1, 0, 0, 1, 0, 1, 1, 0, 1, 0, 0, 0, 0, 0, 0, 0, 0, 0,\n",
       "       0, 0, 0, 0, 0, 0, 0, 0, 0, 1, 0, 0, 0, 0, 0, 0, 0, 0, 1, 0, 0, 1,\n",
       "       0, 0, 1, 1, 0, 0, 1, 1, 1, 0, 0, 1, 0, 0, 1, 0, 0, 0, 0, 0, 0, 1,\n",
       "       1, 0, 1, 1, 0, 0, 1, 0, 1, 0, 1, 0, 0, 0, 0, 0, 1, 0, 1, 0, 1, 0,\n",
       "       0, 0, 1, 1, 0, 1, 0, 0, 0, 0, 1, 0, 0, 0, 0, 1, 0, 0, 1, 0, 1, 0,\n",
       "       1, 0, 1, 0, 1, 1, 0, 1, 0, 0, 0, 1, 0, 0, 0, 0, 0, 0, 1, 1, 1, 1,\n",
       "       0, 0, 0, 0, 1, 0, 1, 0, 1, 0, 0, 0, 0, 0, 0, 0, 1, 0, 0, 0, 1, 1,\n",
       "       0, 0, 0, 0, 0, 0, 0, 0, 1, 1, 0, 1, 0, 0, 0, 0, 0, 1, 1, 1, 1, 0,\n",
       "       0, 0, 0, 0, 0, 1, 0, 0, 0, 0, 1, 0, 0, 0, 0, 0, 0, 0, 1, 1, 0, 1,\n",
       "       0, 0, 0, 0, 0, 0, 1, 1, 0, 0, 0, 0, 0, 0, 0, 0, 1, 0, 1, 0, 0, 0,\n",
       "       1, 0, 0, 0, 0, 0, 0, 0, 0, 0, 0, 0, 0, 1, 0, 1, 0, 0, 0, 1, 1, 0,\n",
       "       0, 0, 1, 0, 1, 0, 0, 1, 0, 1, 1, 0, 1, 0, 0, 0, 1, 0, 0, 1, 0, 0,\n",
       "       1, 1, 0, 0, 0, 0, 0, 0, 0, 0, 0, 1, 0, 0, 0, 1, 1, 1, 0, 0, 0, 1,\n",
       "       0, 1, 0, 0, 1, 0, 1, 0, 0, 0, 0, 0, 1, 1, 1, 1, 1, 0, 1, 0, 0, 0],\n",
       "      dtype=int64)"
      ]
     },
     "execution_count": 237,
     "metadata": {},
     "output_type": "execute_result"
    }
   ],
   "source": [
    "previsoes = rf_model.predict( df_kaggle )\n",
    "previsoes"
   ]
  },
  {
   "cell_type": "code",
   "execution_count": 238,
   "metadata": {},
   "outputs": [],
   "source": [
    "submission = df_kaggle_raw[['PassengerId']]"
   ]
  },
  {
   "cell_type": "code",
   "execution_count": 239,
   "metadata": {},
   "outputs": [
    {
     "name": "stderr",
     "output_type": "stream",
     "text": [
      "C:\\Users\\Dell\\AppData\\Local\\Temp\\ipykernel_3348\\1448974057.py:1: SettingWithCopyWarning: \n",
      "A value is trying to be set on a copy of a slice from a DataFrame.\n",
      "Try using .loc[row_indexer,col_indexer] = value instead\n",
      "\n",
      "See the caveats in the documentation: https://pandas.pydata.org/pandas-docs/stable/user_guide/indexing.html#returning-a-view-versus-a-copy\n",
      "  submission['Survived'] = previsoes\n"
     ]
    }
   ],
   "source": [
    "submission['Survived'] = previsoes"
   ]
  },
  {
   "cell_type": "code",
   "execution_count": 240,
   "metadata": {},
   "outputs": [
    {
     "data": {
      "text/html": [
       "<div>\n",
       "<style scoped>\n",
       "    .dataframe tbody tr th:only-of-type {\n",
       "        vertical-align: middle;\n",
       "    }\n",
       "\n",
       "    .dataframe tbody tr th {\n",
       "        vertical-align: top;\n",
       "    }\n",
       "\n",
       "    .dataframe thead th {\n",
       "        text-align: right;\n",
       "    }\n",
       "</style>\n",
       "<table border=\"1\" class=\"dataframe\">\n",
       "  <thead>\n",
       "    <tr style=\"text-align: right;\">\n",
       "      <th></th>\n",
       "      <th>PassengerId</th>\n",
       "      <th>Survived</th>\n",
       "    </tr>\n",
       "  </thead>\n",
       "  <tbody>\n",
       "    <tr>\n",
       "      <th>0</th>\n",
       "      <td>892</td>\n",
       "      <td>0</td>\n",
       "    </tr>\n",
       "    <tr>\n",
       "      <th>1</th>\n",
       "      <td>893</td>\n",
       "      <td>0</td>\n",
       "    </tr>\n",
       "    <tr>\n",
       "      <th>2</th>\n",
       "      <td>894</td>\n",
       "      <td>0</td>\n",
       "    </tr>\n",
       "    <tr>\n",
       "      <th>3</th>\n",
       "      <td>895</td>\n",
       "      <td>0</td>\n",
       "    </tr>\n",
       "    <tr>\n",
       "      <th>4</th>\n",
       "      <td>896</td>\n",
       "      <td>1</td>\n",
       "    </tr>\n",
       "  </tbody>\n",
       "</table>\n",
       "</div>"
      ],
      "text/plain": [
       "   PassengerId  Survived\n",
       "0          892         0\n",
       "1          893         0\n",
       "2          894         0\n",
       "3          895         0\n",
       "4          896         1"
      ]
     },
     "execution_count": 240,
     "metadata": {},
     "output_type": "execute_result"
    }
   ],
   "source": [
    "submission.head()"
   ]
  },
  {
   "cell_type": "code",
   "execution_count": 241,
   "metadata": {},
   "outputs": [],
   "source": [
    "submission.to_csv('../banco/submission.csv', index = False)"
   ]
  }
 ],
 "metadata": {
  "kernelspec": {
   "display_name": "titanic",
   "language": "python",
   "name": "python3"
  },
  "language_info": {
   "codemirror_mode": {
    "name": "ipython",
    "version": 3
   },
   "file_extension": ".py",
   "mimetype": "text/x-python",
   "name": "python",
   "nbconvert_exporter": "python",
   "pygments_lexer": "ipython3",
   "version": "3.11.4"
  },
  "orig_nbformat": 4
 },
 "nbformat": 4,
 "nbformat_minor": 2
}
