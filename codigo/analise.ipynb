{
 "cells": [
  {
   "cell_type": "markdown",
   "metadata": {},
   "source": [
    "# Etapa Pré"
   ]
  },
  {
   "cell_type": "markdown",
   "metadata": {},
   "source": [
    "## Pré 1 - Bibliotecas / Pacotes usados"
   ]
  },
  {
   "cell_type": "code",
   "execution_count": null,
   "metadata": {},
   "outputs": [],
   "source": [
    "#%pip install pandas\n",
    "#%pip install seaborn\n",
    "#%pip install numpy\n",
    "#%pip install matplotlib.pyplot\n",
    "#%pip install -U scikit-learn \n",
    "\n",
    " \n",
    "import pandas as pd\n",
    "import seaborn as sns\n",
    "import numpy as np\n",
    "import matplotlib.pyplot as plt\n",
    "from sklearn.preprocessing import LabelEncoder, OneHotEncoder, OrdinalEncoder"
   ]
  },
  {
   "cell_type": "markdown",
   "metadata": {},
   "source": [
    "## Pré 2 - Funções"
   ]
  },
  {
   "cell_type": "code",
   "execution_count": null,
   "metadata": {},
   "outputs": [],
   "source": [
    "# ===================================================================\n",
    "# Configura os gráficos\n",
    "def jupyter_settings():\n",
    "    %matplotlib inline\n",
    "    # %pylab inline\n",
    "    \n",
    "    plt.style.use('bmh')\n",
    "    plt.rcParams['figure.figsize'] = [22, 9]\n",
    "    plt.rcParams['font.size'] = 21\n",
    "\n",
    "    # display(HTML('<style>.conteiner{width:100% !important;}</style>'))\n",
    "\n",
    "    pd.options.display.max_columns = None\n",
    "    pd.options.display.max_rows = None\n",
    "    pd.set_option('display.expand_frame_repr', False)\n",
    "    \n",
    "    # configura o pandas para quantidade de casas decimais\n",
    "    pd.set_option('display.float_format', lambda x: '%.2f' % x)\n",
    "\n",
    "    sns.set()\n",
    "\n",
    "jupyter_settings()"
   ]
  },
  {
   "cell_type": "markdown",
   "metadata": {},
   "source": [
    "## Pré 3 - Lendo os dados - Parte 1"
   ]
  },
  {
   "cell_type": "code",
   "execution_count": null,
   "metadata": {},
   "outputs": [],
   "source": [
    "df_raw = pd.read_csv('../banco/train.csv',)"
   ]
  },
  {
   "cell_type": "code",
   "execution_count": null,
   "metadata": {},
   "outputs": [],
   "source": [
    "df_raw.head()"
   ]
  },
  {
   "cell_type": "markdown",
   "metadata": {},
   "source": [
    "# Etapa 1 - Entendendo os dados"
   ]
  },
  {
   "cell_type": "code",
   "execution_count": null,
   "metadata": {},
   "outputs": [],
   "source": [
    "df1 = df_raw.copy()"
   ]
  },
  {
   "cell_type": "code",
   "execution_count": null,
   "metadata": {},
   "outputs": [],
   "source": [
    "# Visão geral das primeiras linhas\n",
    "df1.head()        #primeiras 5 linhas\n",
    "# df1.tail()      #últimas 5 linhas"
   ]
  },
  {
   "cell_type": "markdown",
   "metadata": {},
   "source": [
    "## 1.1 Renomeando colunas"
   ]
  },
  {
   "cell_type": "code",
   "execution_count": null,
   "metadata": {},
   "outputs": [],
   "source": [
    "# Lista dos nomes das variáveis \n",
    "df1.columns   #atributo"
   ]
  },
  {
   "cell_type": "code",
   "execution_count": null,
   "metadata": {},
   "outputs": [],
   "source": [
    "# Renomear as colunas que estão em inglês\n",
    "df1.rename(columns = {'PassengerId':'id_passageiro'\n",
    ",'Survived':'sobrevivencia'\n",
    ",'Pclass':'classe_ingresso'\n",
    ",'Name':'nome'\n",
    ",'Sex':'sexo'\n",
    ",'Age':'idade'\n",
    ",'SibSp':'n_irmao_conjuge_bordo'\n",
    ",'Parch':'n_pais_filhos_bordo'\n",
    ",'Ticket':'n_bilhete'\n",
    ",'Fare':'tarifa_passageiro'\n",
    ",'Cabin':'n_cabine'\n",
    ",'Embarked':'porto_embarcacao'}, inplace=True)\n",
    "\n",
    "df1.columns"
   ]
  },
  {
   "cell_type": "markdown",
   "metadata": {},
   "source": [
    "## 1.2 Dimensões dos dados"
   ]
  },
  {
   "cell_type": "code",
   "execution_count": null,
   "metadata": {},
   "outputs": [],
   "source": [
    "qtd_de_linhas = df1.shape[0]\n",
    "qtd_de_colunas = df1.shape[1]\n",
    "n_de_cada_var = df1.count()\n",
    "\n",
    "\n",
    "print(f'O banco possui', qtd_de_linhas, 'linhas e', qtd_de_colunas, 'colunas.')\n",
    "print(f'')\n",
    "print(n_de_cada_var)"
   ]
  },
  {
   "cell_type": "markdown",
   "metadata": {},
   "source": [
    "## 1.3 Verificando NA (missings)\n",
    "### Conferindo a quantidade de missing em cada variável"
   ]
  },
  {
   "cell_type": "code",
   "execution_count": null,
   "metadata": {},
   "outputs": [],
   "source": [
    "check_na_var = df1.isnull().sum()"
   ]
  },
  {
   "cell_type": "code",
   "execution_count": null,
   "metadata": {},
   "outputs": [],
   "source": [
    "print(check_na_var)"
   ]
  },
  {
   "cell_type": "markdown",
   "metadata": {},
   "source": [
    "## 1.4 Tipos de dados"
   ]
  },
  {
   "cell_type": "code",
   "execution_count": null,
   "metadata": {},
   "outputs": [],
   "source": [
    "df1.dtypes"
   ]
  },
  {
   "cell_type": "markdown",
   "metadata": {},
   "source": [
    "## 1.5 Modificações dos tipos"
   ]
  },
  {
   "cell_type": "code",
   "execution_count": null,
   "metadata": {},
   "outputs": [],
   "source": [
    "# Alterar o tipo da variável duração do sono conforme exemplo abaixo:\n",
    "# df['Idade'] = df['Idade'].astype('int64')\n",
    "# df['Duração do sono'] = df['Duração do sono'].apply(lambda x: x.replace(',', '.'))\n",
    "#lembrar que isso poderia ser corrigido na abertura do banco de dados [ex.: sep=\",\"].\n",
    "# df['Duração do sono'] = df['Duração do sono'].astype('float64')\n",
    "# df['nascimento'] = pd.to_datetime(df['nascimento'], dayfirst=True)\n",
    "\n",
    "df1['sobrevivencia'] = df1['sobrevivencia'].astype('boolean')\n",
    "df1['classe_ingresso'] = df1['classe_ingresso'].astype(str)"
   ]
  },
  {
   "cell_type": "code",
   "execution_count": null,
   "metadata": {},
   "outputs": [],
   "source": [
    "df1.dtypes"
   ]
  },
  {
   "cell_type": "markdown",
   "metadata": {},
   "source": [
    "## 1.6 Conjunto das variáveis QUANTITATIVAS (Numerical Features)\n",
    "### Separando os atributos entre numéricos e categóricos"
   ]
  },
  {
   "cell_type": "code",
   "execution_count": null,
   "metadata": {},
   "outputs": [],
   "source": [
    "quantitativa_variavel = df1.select_dtypes(include = ['int64', 'float64'])"
   ]
  },
  {
   "cell_type": "code",
   "execution_count": null,
   "metadata": {},
   "outputs": [],
   "source": [
    "quantitativa_variavel.head()"
   ]
  },
  {
   "cell_type": "markdown",
   "metadata": {},
   "source": [
    "## 1.7 Conjunto das variáveis QUALITATIVAS (Categorical Features)"
   ]
  },
  {
   "cell_type": "code",
   "execution_count": null,
   "metadata": {},
   "outputs": [],
   "source": [
    "qualitativa_variavel = df1.select_dtypes(exclude = ['int64', 'float64'])"
   ]
  },
  {
   "cell_type": "code",
   "execution_count": null,
   "metadata": {},
   "outputs": [],
   "source": [
    "# Plotar a contagem das classes de cada variável categórica\n",
    "qualitativa_variavel.apply(lambda x: x.unique().shape[0])"
   ]
  },
  {
   "cell_type": "code",
   "execution_count": null,
   "metadata": {},
   "outputs": [],
   "source": [
    "qualitativa_variavel.head()"
   ]
  },
  {
   "cell_type": "markdown",
   "metadata": {},
   "source": [
    "## 1.8 Desfecho / Target Feature"
   ]
  },
  {
   "cell_type": "code",
   "execution_count": null,
   "metadata": {},
   "outputs": [],
   "source": [
    "# Contagem das classes\n",
    "contagem = qualitativa_variavel['sobrevivencia'].value_counts()\n",
    "\n",
    "# Percentual das classes\n",
    "percentagem = (df1['sobrevivencia'].value_counts(normalize=True) * 100).round(2)\n",
    "\n",
    "# Criar o dataframe resultante\n",
    "resultado = pd.DataFrame({'Classe': contagem.index\n",
    "                    ,'Contagem': contagem\n",
    "                    ,'Percentual': percentagem})\n",
    "\n",
    "# Imprimir o dataframe resultante\n",
    "display(resultado)\n"
   ]
  },
  {
   "cell_type": "markdown",
   "metadata": {},
   "source": [
    "# Etapa 2 - Análise exploriatória de dados "
   ]
  },
  {
   "cell_type": "code",
   "execution_count": null,
   "metadata": {},
   "outputs": [],
   "source": [
    "df2 = df1.copy()\n",
    "df2.drop(['nome', 'n_bilhete'], axis = 1, inplace = True)\n",
    "df2.head()"
   ]
  },
  {
   "cell_type": "code",
   "execution_count": null,
   "metadata": {},
   "outputs": [],
   "source": [
    "df2.head()"
   ]
  },
  {
   "cell_type": "markdown",
   "metadata": {},
   "source": [
    "## 2.1 Análise das variáveis QUANTITATIVAS"
   ]
  },
  {
   "cell_type": "markdown",
   "metadata": {},
   "source": [
    "### 2.1.1 Estatística QUANTITATIVAS - Univariável"
   ]
  },
  {
   "cell_type": "code",
   "execution_count": null,
   "metadata": {},
   "outputs": [],
   "source": [
    "descritiva_das_var = quantitativa_variavel.describe().T\n",
    "print(descritiva_das_var)"
   ]
  },
  {
   "cell_type": "markdown",
   "metadata": {},
   "source": [
    "### 2.1.2 Gráfico QUANTITATIVAS - Univariável"
   ]
  },
  {
   "cell_type": "markdown",
   "metadata": {},
   "source": [
    "### BoxPlot"
   ]
  },
  {
   "cell_type": "code",
   "execution_count": null,
   "metadata": {},
   "outputs": [],
   "source": [
    "# Plotar gráficos univariada\n",
    "plt.subplot(2, 2, 1)\n",
    "sns.boxplot(df2['idade']).set(title = 'Boxplot da Idade', xlabel = None, ylabel = None)\n",
    "plt.subplot(2, 2, 2)\n",
    "sns.boxplot(df2['n_irmao_conjuge_bordo']).set(title = 'Boxplot do n de cônjuges à bordo)', xlabel = None, ylabel = None)\n",
    "plt.subplot(2, 2, 3)\n",
    "sns.boxplot(df2['n_pais_filhos_bordo']).set(title = 'Boxplot do n de pais/filhos à bordo)', xlabel = None, ylabel = None)\n",
    "plt.subplot(2, 2, 4)\n",
    "sns.boxplot(df2['tarifa_passageiro']).set(title = 'Boxplot da tarifa paga)', xlabel = None, ylabel = None);"
   ]
  },
  {
   "cell_type": "markdown",
   "metadata": {},
   "source": [
    "### Histograma"
   ]
  },
  {
   "cell_type": "code",
   "execution_count": null,
   "metadata": {},
   "outputs": [],
   "source": [
    "# Plotar gráficos univariada\n",
    "plt.subplot(2, 2, 1)\n",
    "sns.histplot(df2['idade']).set(title = 'Boxplot da Idade', xlabel = None, ylabel = None)\n",
    "plt.subplot(2, 2, 2)\n",
    "sns.histplot(df2['n_irmao_conjuge_bordo']).set(title = 'Boxplot do n de cônjuges à bordo)', xlabel = None, ylabel = None)\n",
    "plt.subplot(2, 2, 3)\n",
    "sns.histplot(df2['n_pais_filhos_bordo']).set(title = 'Boxplot do n de pais/filhos à bordo)', xlabel = None, ylabel = None)\n",
    "plt.subplot(2, 2, 4)\n",
    "sns.histplot(df2['tarifa_passageiro']).set(title = 'Boxplot da tarifa paga)', xlabel = None, ylabel = None);"
   ]
  },
  {
   "cell_type": "markdown",
   "metadata": {},
   "source": [
    "## 2.2 Análise das variáveis QUALITATIVAS"
   ]
  },
  {
   "cell_type": "markdown",
   "metadata": {},
   "source": [
    "### 2.2.1 Estatística QUALITATIVAS - Univariável"
   ]
  },
  {
   "cell_type": "code",
   "execution_count": null,
   "metadata": {},
   "outputs": [],
   "source": [
    "# Plotar todas as classes da variável Ocupação e a contagem de cada classe\n",
    "df2['sobrevivencia'].value_counts()"
   ]
  },
  {
   "cell_type": "code",
   "execution_count": null,
   "metadata": {},
   "outputs": [],
   "source": [
    "# Contagem das classes\n",
    "contagem1 = qualitativa_variavel['sobrevivencia'].value_counts()\n",
    "contagem2 = qualitativa_variavel['classe_ingresso'].value_counts()\n",
    "contagem3 = qualitativa_variavel['porto_embarcacao'].value_counts()\n",
    "\n",
    "# Percentual das classes\n",
    "percentagem1 = (qualitativa_variavel['sobrevivencia'].value_counts(normalize=True) * 100).round(2)\n",
    "percentagem2 = (qualitativa_variavel['classe_ingresso'].value_counts(normalize=True) * 100).round(2)\n",
    "percentagem3 = (qualitativa_variavel['porto_embarcacao'].value_counts(normalize=True) * 100).round(2)\n",
    "\n",
    "# Criar o dataframe resultante\n",
    "resultado = pd.DataFrame({'Classe': contagem.index\n",
    "                    ,'nSobrev': contagem1\n",
    "                    ,'%Sobrev': percentagem1\n",
    "                    ,'nClasse_ing': contagem2\n",
    "                    ,'%Classe_ing': percentagem2\n",
    "                    ,'nPorto': contagem3\n",
    "                    ,'%Porto': percentagem3\n",
    "                    })\n",
    "\n",
    "# Imprimir o dataframe resultante\n",
    "display(resultado)"
   ]
  },
  {
   "cell_type": "markdown",
   "metadata": {},
   "source": [
    "### 2.2.2 Gráficos QUALITATIVAS - Univariável"
   ]
  },
  {
   "cell_type": "code",
   "execution_count": null,
   "metadata": {},
   "outputs": [],
   "source": [
    "# Plotar gráficos univariada\n",
    "plt.subplot(2, 2, 1)\n",
    "sns.countplot(x='sobrevivencia', data=df2)      #gráfico de barras\n",
    "plt.subplot(2, 2, 2)\n",
    "sns.countplot(x='sexo', data=df2)      #gráfico de barras\n",
    "plt.subplot(2, 2, 3)\n",
    "sns.countplot(x='porto_embarcacao', data=df2)      #gráfico de barras\n",
    "plt.subplot(2, 2, 4)\n",
    "sns.countplot(x='classe_ingresso', data=df2)      #gráfico de barras"
   ]
  },
  {
   "cell_type": "markdown",
   "metadata": {},
   "source": [
    "## 2.3 Análise Bivariadas\n",
    "\n",
    "##### sns.boxplot(numerical_attributes['salario_medio']).set(title='Salário médio da profissão')\n",
    "##### sns.displot(data=df, x=\"escolaridade\", kde=True, height=6, aspect=2).set(title='Escolaridade dos trabalhadores', xlabel=None, ylabel='Contagem');\n",
    "##### df.hist(figsize=(22,8));\n",
    "##### sns.histplot(df.status).set(title=\"Variável target\");\n",
    "##### sns.catplot(data=df, x='periodicidade', y='salario_medio', kind='box', height=6, aspect=3,).set(title='Salário médio vs Periodicidade', ylabel='Salário U$', xlabel=None);\n",
    "##### sns.countplot(data=df, x=\"escolaridade\", hue=\"status\").set(title='Escolaridade x Aprovação do visto', ylabel='Contagem', xlabel=None)\n",
    "##### corr = numerical_attributes.corr().round(1)\n",
    "##### corr\n",
    "##### plt.figure(figsize=(22, 7))\n",
    "##### heatmap = sns.heatmap(corr, vmin=-1, vmax=1, annot=True)\n",
    "##### heatmap.set_title(\"Mapa de calor - Correlação\", fontdict={\"fontsize\": 12}, pad=12);"
   ]
  },
  {
   "cell_type": "markdown",
   "metadata": {},
   "source": [
    "### 2.3.1 Análises Correlação"
   ]
  },
  {
   "cell_type": "code",
   "execution_count": null,
   "metadata": {},
   "outputs": [],
   "source": [
    "correlacao = quantitativa_variavel.corr(method = 'pearson')\n",
    "correlacao"
   ]
  },
  {
   "cell_type": "markdown",
   "metadata": {},
   "source": [
    "### 2.3.2 Gráficos - "
   ]
  },
  {
   "cell_type": "code",
   "execution_count": null,
   "metadata": {},
   "outputs": [],
   "source": [
    "\n",
    "sns.boxplot(y='idade', x = 'sobrevivencia', data=df2, width = 0.2)"
   ]
  },
  {
   "cell_type": "code",
   "execution_count": 159,
   "metadata": {},
   "outputs": [
    {
     "data": {
      "text/plain": [
       "<Axes: xlabel='sobrevivencia', ylabel='idade'>"
      ]
     },
     "execution_count": 159,
     "metadata": {},
     "output_type": "execute_result"
    },
    {
     "data": {
      "image/png": "[encoded data removed]",
      "text/plain": [
       "<Figure size 2200x900 with 3 Axes>"
      ]
     },
     "metadata": {},
     "output_type": "display_data"
    }
   ],
   "source": [
    "#Boxplot - 2 fatores (três variáveis: 1 quanti e 2 quali)\n",
    "plt.subplot(2, 2, 1)\n",
    "sns.boxplot(y='idade', x = 'sobrevivencia', hue = 'sexo', data=df2, width = 0.2)\n",
    "plt.subplot(2, 2, 2)\n",
    "sns.boxplot(y='idade', x = 'sobrevivencia', hue = 'classe_ingresso', data=df2, width = 0.2)\n",
    "plt.subplot(2, 2, 3)\n",
    "sns.boxplot(y='idade', x = 'sobrevivencia', hue = 'porto_embarcacao', data=df2, width = 0.2)"
   ]
  },
  {
   "cell_type": "markdown",
   "metadata": {},
   "source": [
    "# Etapa 3 - Seleção das variáveis"
   ]
  },
  {
   "cell_type": "code",
   "execution_count": 162,
   "metadata": {},
   "outputs": [],
   "source": [
    "df3 = df2.copy()"
   ]
  },
  {
   "cell_type": "code",
   "execution_count": 163,
   "metadata": {},
   "outputs": [
    {
     "data": {
      "text/plain": [
       "id_passageiro              0\n",
       "sobrevivencia              0\n",
       "classe_ingresso            0\n",
       "sexo                       0\n",
       "idade                    177\n",
       "n_irmao_conjuge_bordo      0\n",
       "n_pais_filhos_bordo        0\n",
       "tarifa_passageiro          0\n",
       "n_cabine                 687\n",
       "porto_embarcacao           2\n",
       "dtype: int64"
      ]
     },
     "execution_count": 163,
     "metadata": {},
     "output_type": "execute_result"
    }
   ],
   "source": [
    "df3.isna().sum()"
   ]
  },
  {
   "cell_type": "markdown",
   "metadata": {},
   "source": [
    "# Etapa 4 - Preparação dos dados"
   ]
  },
  {
   "cell_type": "code",
   "execution_count": 166,
   "metadata": {},
   "outputs": [],
   "source": [
    "# Preenchendo valores faltantes de uma coluna com valor especificado (moda)\n",
    "df3['idade'].fillna(df3['idade'].median(), inplace=True)"
   ]
  },
  {
   "cell_type": "code",
   "execution_count": null,
   "metadata": {},
   "outputs": [],
   "source": [
    "df3.head(25)"
   ]
  },
  {
   "cell_type": "markdown",
   "metadata": {},
   "source": [
    "# Excluindo todos valores faltantes (linhas)\n",
    "# df3.dropna(axis=0, inplace=True)  #0 ou index\n",
    "\n",
    "# Excluindo colunas com valores faltantes\n",
    "# df3.dropna(axis='columns', inplace=True)    # 1 ou columns \n",
    "\n",
    "# Excluindo valores faltantes de colunas específicadas\n",
    "# df3.dropna(subset='Gênero', inplace=True)\n",
    "df3.dropna(subset=['Gênero', 'Categoria IMC'], inplace=True)   #lista das var para excluir\n",
    "\n",
    "# Preenchendo valores faltantes do dataframe todo com valor especificado (zeros)\n",
    "df3.fillna(0, inplace=True)\n",
    "\n",
    "# Preenchendo valores faltantes de uma coluna com valor especificado (moda) \n",
    "# Variáveis quantitativas\n",
    "df3['Gênero'].fillna(df3['Idade'].mean * df3['Batimentos cardíacos em descanso'].max(), inplace=True)\n",
    "\n",
    "# Eliminando outliers IQR\n",
    "q3, q1 = np.percentile(df3['Batimentos cardíacos em descanso'], [75, 25])\n",
    "print(q3)\n",
    "print(q1)\n",
    "IQR = q3 - q1\n",
    "min_outlier = q1 - (IQR*1.5)\n",
    "max_outlier = q3 + (IQR*1.5)\n",
    "print(min_outlier)\n",
    "print(max_outlier)\n",
    "\n",
    "# df3['Batimentos cardíacos em descanso'] = df3['Batimentos cardíacos em descanso'].apply(\n",
    "    lambda x: 90 if x < min_outlier or x > max_outlier else x)\n",
    "\n",
    "df3['Batimentos cardíacos em descanso'] = df3['Batimentos cardíacos em descanso'].apply(\n",
    "    lambda x: \n",
    "    df3['Batimentos cardíacos em descanso'].max() if x > max_outlier else \n",
    "    df3['Batimentos cardíacos em descanso'].min() if x < min_outlier else \n",
    "    x)\n",
    "\n",
    "# Preenchendo valores faltantes de uma coluna com valor especificado (moda)\n",
    "df3['Gênero'].fillna(df3['Gênero'].mode()[0], inplace=True)\n",
    "df3['Ocupacao'].fillna(df3['Ocupacao'].mode()[0], inplace=True)\n",
    "df3['Categoria IMC'].fillna(df3['Categoria IMC'].mode()[0], inplace=True)\n",
    "df3['Distúrbio do sono'].fillna(df3['Distúrbio do sono'].mode()[0], inplace=True)\n",
    "\n",
    "label = OrdinalEncoder()\n",
    "df3[['Ocupacao', 'Categoria IMC', 'Distúrbio do sono']] = label.fit_transform(\n",
    "    df3[['Ocupacao', 'Categoria IMC', 'Distúrbio do sono']])\n",
    "\n",
    "\n",
    "df3 = pd.get_dummies(df3, columns=[\"Gênero\"], prefix=[\"Tipo\"], dtype = int, drop_first = True)"
   ]
  },
  {
   "cell_type": "markdown",
   "metadata": {},
   "source": [
    "# Etapa 5 - Modelagem"
   ]
  }
 ],
 "metadata": {
  "kernelspec": {
   "display_name": "titanic",
   "language": "python",
   "name": "python3"
  },
  "language_info": {
   "codemirror_mode": {
    "name": "ipython",
    "version": 3
   },
   "file_extension": ".py",
   "mimetype": "text/x-python",
   "name": "python",
   "nbconvert_exporter": "python",
   "pygments_lexer": "ipython3",
   "version": "3.11.4"
  },
  "orig_nbformat": 4
 },
 "nbformat": 4,
 "nbformat_minor": 2
}
